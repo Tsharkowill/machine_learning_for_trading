{
 "cells": [
  {
   "cell_type": "code",
   "execution_count": 1,
   "id": "4ef8d959-89be-451e-b60f-fc7023a6d043",
   "metadata": {},
   "outputs": [],
   "source": [
    "import pickle\n",
    "import numpy as np\n",
    "import pandas as pd\n",
    "import vectorbt as vbt\n",
    "from statsmodels.tsa.arima.model import ARIMA\n",
    "from arch import arch_model\n",
    "from sklearn.metrics import make_scorer\n",
    "import warnings\n",
    "import matplotlib.pyplot as plt\n",
    "import itertools\n",
    "from datetime import datetime, timedelta\n",
    "import pytz\n",
    "from numba import njit\n",
    "import ipywidgets\n",
    "\n",
    "import warnings\n",
    "warnings.filterwarnings('ignore')"
   ]
  },
  {
   "cell_type": "code",
   "execution_count": null,
   "id": "ad9708a0-d86c-44e9-bf42-d7434fe29531",
   "metadata": {},
   "outputs": [],
   "source": [
    "fixed_dollar_amount = 1000\n",
    "\n",
    "# Price to use for entry sizing (use Open to avoid lookahead)\n",
    "entry_price = ohlcv['Open']\n",
    "\n",
    "# Create size DataFrame matching entries/exits\n",
    "size = pd.DataFrame(0.0, index=entries.index, columns=entries.columns)\n",
    "\n",
    "# Fill only where entries are True: size = $1000 / entry_price\n",
    "size[entries] = fixed_dollar_amount / entry_price[entries]\n",
    "\n",
    "# Optional: round to 4 decimals or fewer for asset precision\n",
    "size = size.round(4)\n",
    "\n",
    "# --- Build portfolio ---\n",
    "portfolio = vbt.Portfolio.from_signals(\n",
    "    close=ohlcv['Close'],\n",
    "    entries=entries,\n",
    "    exits=exits,\n",
    "    size=size,\n",
    "    accumulate=True,\n",
    "    direction='longonly',\n",
    "    init_cash=10_000\n",
    ")\n",
    "\n",
    "# --- Review ---\n",
    "print(portfolio.stats())\n",
    "portfolio.plot().show()"
   ]
  },
  {
   "cell_type": "code",
   "execution_count": 5,
   "id": "2408a517-2b3f-4446-91e2-0eab384c819b",
   "metadata": {},
   "outputs": [
    {
     "ename": "ModuleNotFoundError",
     "evalue": "No module named 'yfinance'",
     "output_type": "error",
     "traceback": [
      "\u001b[31m---------------------------------------------------------------------------\u001b[39m",
      "\u001b[31mModuleNotFoundError\u001b[39m                       Traceback (most recent call last)",
      "\u001b[36mCell\u001b[39m\u001b[36m \u001b[39m\u001b[32mIn[5]\u001b[39m\u001b[32m, line 3\u001b[39m\n\u001b[32m      1\u001b[39m \u001b[38;5;66;03m# Fetch BTC data from Binance\u001b[39;00m\n\u001b[32m----> \u001b[39m\u001b[32m3\u001b[39m btc_data = \u001b[43mvbt\u001b[49m\u001b[43m.\u001b[49m\u001b[43mYFData\u001b[49m\u001b[43m.\u001b[49m\u001b[43mdownload\u001b[49m\u001b[43m(\u001b[49m\n\u001b[32m      4\u001b[39m \u001b[43m    \u001b[49m\u001b[33;43m\"\u001b[39;49m\u001b[33;43mBTCUSDT\u001b[39;49m\u001b[33;43m\"\u001b[39;49m\u001b[43m,\u001b[49m\n\u001b[32m      5\u001b[39m \u001b[43m    \u001b[49m\u001b[43mstart\u001b[49m\u001b[43m=\u001b[49m\u001b[33;43m\"\u001b[39;49m\u001b[33;43m2022-07-05\u001b[39;49m\u001b[33;43m\"\u001b[39;49m\u001b[43m,\u001b[49m\n\u001b[32m      6\u001b[39m \u001b[43m    \u001b[49m\u001b[43mend\u001b[49m\u001b[43m=\u001b[49m\u001b[33;43m\"\u001b[39;49m\u001b[33;43m2025-07-05\u001b[39;49m\u001b[33;43m\"\u001b[39;49m\u001b[43m,\u001b[49m\n\u001b[32m      7\u001b[39m \u001b[43m    \u001b[49m\u001b[43mtimeframe\u001b[49m\u001b[43m=\u001b[49m\u001b[33;43m\"\u001b[39;49m\u001b[33;43m1d\u001b[39;49m\u001b[33;43m\"\u001b[39;49m\n\u001b[32m      8\u001b[39m \u001b[43m)\u001b[49m\n\u001b[32m      9\u001b[39m Open = btc_data.get(\u001b[33m\"\u001b[39m\u001b[33mOpen\u001b[39m\u001b[33m\"\u001b[39m)\n\u001b[32m     10\u001b[39m High = btc_data.get(\u001b[33m\"\u001b[39m\u001b[33mHigh\u001b[39m\u001b[33m\"\u001b[39m)\n",
      "\u001b[36mFile \u001b[39m\u001b[32m~/git/machine_learning_for_trading/venv/lib/python3.11/site-packages/vectorbt/data/base.py:584\u001b[39m, in \u001b[36mData.download\u001b[39m\u001b[34m(cls, symbols, tz_localize, tz_convert, missing_index, missing_columns, wrapper_kwargs, **kwargs)\u001b[39m\n\u001b[32m    581\u001b[39m     _kwargs = \u001b[38;5;28mcls\u001b[39m.select_symbol_kwargs(s, kwargs)\n\u001b[32m    583\u001b[39m     \u001b[38;5;66;03m# Download data for this symbol\u001b[39;00m\n\u001b[32m--> \u001b[39m\u001b[32m584\u001b[39m     data[s] = \u001b[38;5;28;43mcls\u001b[39;49m\u001b[43m.\u001b[49m\u001b[43mdownload_symbol\u001b[49m\u001b[43m(\u001b[49m\u001b[43ms\u001b[49m\u001b[43m,\u001b[49m\u001b[43m \u001b[49m\u001b[43m*\u001b[49m\u001b[43m*\u001b[49m\u001b[43m_kwargs\u001b[49m\u001b[43m)\u001b[49m\n\u001b[32m    586\u001b[39m \u001b[38;5;66;03m# Create new instance from data\u001b[39;00m\n\u001b[32m    587\u001b[39m \u001b[38;5;28;01mreturn\u001b[39;00m \u001b[38;5;28mcls\u001b[39m.from_data(\n\u001b[32m    588\u001b[39m     data,\n\u001b[32m    589\u001b[39m     tz_localize=tz_localize,\n\u001b[32m   (...)\u001b[39m\u001b[32m    594\u001b[39m     download_kwargs=kwargs\n\u001b[32m    595\u001b[39m )\n",
      "\u001b[36mFile \u001b[39m\u001b[32m~/git/machine_learning_for_trading/venv/lib/python3.11/site-packages/vectorbt/data/custom.py:268\u001b[39m, in \u001b[36mYFData.download_symbol\u001b[39m\u001b[34m(cls, symbol, period, start, end, ticker_kwargs, **kwargs)\u001b[39m\n\u001b[32m    246\u001b[39m \u001b[38;5;129m@classmethod\u001b[39m\n\u001b[32m    247\u001b[39m \u001b[38;5;28;01mdef\u001b[39;00m\u001b[38;5;250m \u001b[39m\u001b[34mdownload_symbol\u001b[39m(\u001b[38;5;28mcls\u001b[39m,\n\u001b[32m    248\u001b[39m                     symbol: tp.Label,\n\u001b[32m   (...)\u001b[39m\u001b[32m    252\u001b[39m                     ticker_kwargs: tp.KwargsLike = \u001b[38;5;28;01mNone\u001b[39;00m,\n\u001b[32m    253\u001b[39m                     **kwargs) -> tp.Frame:\n\u001b[32m    254\u001b[39m \u001b[38;5;250m    \u001b[39m\u001b[33;03m\"\"\"Download the symbol.\u001b[39;00m\n\u001b[32m    255\u001b[39m \n\u001b[32m    256\u001b[39m \u001b[33;03m    Args:\u001b[39;00m\n\u001b[32m   (...)\u001b[39m\u001b[32m    266\u001b[39m \u001b[33;03m        **kwargs: Keyword arguments passed to `yfinance.base.TickerBase.history`.\u001b[39;00m\n\u001b[32m    267\u001b[39m \u001b[33;03m    \"\"\"\u001b[39;00m\n\u001b[32m--> \u001b[39m\u001b[32m268\u001b[39m     \u001b[38;5;28;01mimport\u001b[39;00m\u001b[38;5;250m \u001b[39m\u001b[34;01myfinance\u001b[39;00m\u001b[38;5;250m \u001b[39m\u001b[38;5;28;01mas\u001b[39;00m\u001b[38;5;250m \u001b[39m\u001b[34;01myf\u001b[39;00m\n\u001b[32m    270\u001b[39m     \u001b[38;5;66;03m# yfinance still uses mktime, which assumes that the passed date is in local time\u001b[39;00m\n\u001b[32m    271\u001b[39m     \u001b[38;5;28;01mif\u001b[39;00m start \u001b[38;5;129;01mis\u001b[39;00m \u001b[38;5;129;01mnot\u001b[39;00m \u001b[38;5;28;01mNone\u001b[39;00m:\n",
      "\u001b[31mModuleNotFoundError\u001b[39m: No module named 'yfinance'"
     ]
    }
   ],
   "source": [
    "seed = 42\n",
    "symbols = [\n",
    "    'BTCUSDT', 'ETHUSDT', 'SOLUSDT', 'INJUSDT', 'NEARUSDT', \n",
    "    'ENSUSDT', 'AAVEUSDT', 'UMAUSDT','BCHUSDT', 'LTCUSDT',\n",
    "    'LINKUSDT', 'LDOUSDT'\n",
    "]\n",
    "start_date = datetime(2022, 7, 5, tzinfo=pytz.utc)\n",
    "end_date = datetime(2025, 7, 5, tzinfo=pytz.utc)\n",
    "time_delta = end_date - start_date\n",
    "window_len = timedelta(days=180)\n",
    "window_count = 400\n",
    "exit_types = ['TP', 'Holding']\n",
    "step = 0.01  # 1%\n",
    "stops = np.arange(step, 1 + step, step)\n",
    "\n",
    "vbt.settings.array_wrapper['freq'] = 'd'\n",
    "vbt.settings.plotting['layout']['template'] = 'vbt_dark'\n",
    "vbt.settings.portfolio['init_cash'] = 100.  # 100$\n",
    "vbt.settings.portfolio['fees'] = 0.0025  # 0.25%\n",
    "vbt.settings.portfolio['slippage'] = 0.0025  # 0.25%\n",
    "\n",
    "print(pd.Series({\n",
    "    'Start date': start_date,\n",
    "    'End date': end_date,\n",
    "    'Time period (days)': time_delta.days,\n",
    "    'Assets': len(symbols),\n",
    "    'Window length': window_len,\n",
    "    'Windows': window_count,\n",
    "    'Exit types': len(exit_types),\n",
    "    'Stop values': len(stops),\n",
    "    'Tests per asset': window_count * len(stops) * len(exit_types),\n",
    "    'Tests per window': len(symbols) * len(stops) * len(exit_types),\n",
    "    'Tests per exit type': len(symbols) * window_count * len(stops),\n",
    "    'Tests per stop type and value': len(symbols) * window_count,\n",
    "    'Tests total': len(symbols) * window_count * len(stops) * len(exit_types)\n",
    "}))"
   ]
  },
  {
   "cell_type": "code",
   "execution_count": null,
   "id": "74ee78a7-c0a7-496f-8e31-c9ee762108b9",
   "metadata": {},
   "outputs": [],
   "source": []
  }
 ],
 "metadata": {
  "kernelspec": {
   "display_name": "Python 3 (ipykernel)",
   "language": "python",
   "name": "python3"
  },
  "language_info": {
   "codemirror_mode": {
    "name": "ipython",
    "version": 3
   },
   "file_extension": ".py",
   "mimetype": "text/x-python",
   "name": "python",
   "nbconvert_exporter": "python",
   "pygments_lexer": "ipython3",
   "version": "3.11.7"
  }
 },
 "nbformat": 4,
 "nbformat_minor": 5
}
