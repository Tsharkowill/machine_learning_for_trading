{
 "cells": [
  {
   "cell_type": "code",
   "execution_count": 1,
   "id": "bcb839f6-7154-4e9d-b945-fd66fc6d4a33",
   "metadata": {},
   "outputs": [],
   "source": [
    "import vectorbt as vbt\n",
    "\n",
    "import numpy as np\n",
    "import pandas as pd\n",
    "import itertools\n",
    "from datetime import datetime, timedelta\n",
    "import pytz\n",
    "from numba import njit\n",
    "import ipywidgets"
   ]
  },
  {
   "cell_type": "code",
   "execution_count": 2,
   "id": "f1c395f3-26ba-4ade-a1a0-e40fea14f487",
   "metadata": {},
   "outputs": [
    {
     "name": "stdout",
     "output_type": "stream",
     "text": [
      "Start date                       2022-07-05 00:00:00+00:00\n",
      "End date                         2025-07-05 00:00:00+00:00\n",
      "Time period (days)                                    1096\n",
      "Assets                                                  12\n",
      "Window length                            180 days, 0:00:00\n",
      "Windows                                                400\n",
      "Exit types                                               5\n",
      "Stop values                                            100\n",
      "Tests per asset                                     200000\n",
      "Tests per window                                      6000\n",
      "Tests per exit type                                 480000\n",
      "Tests per stop type and value                         4800\n",
      "Tests total                                        2400000\n",
      "dtype: object\n"
     ]
    }
   ],
   "source": [
    "seed = 42\n",
    "symbols = [\n",
    "    'BTCUSDT', 'ETHUSDT', 'SOLUSDT', 'INJUSDT', 'NEARUSDT', \n",
    "    'ENSUSDT', 'AAVEUSDT', 'UMAUSDT','BCHUSDT', 'LTCUSDT',\n",
    "    'LINKUSDT', 'LDOUSDT'\n",
    "]\n",
    "start_date = datetime(2022, 7, 5, tzinfo=pytz.utc)\n",
    "end_date = datetime(2025, 7, 5, tzinfo=pytz.utc)\n",
    "time_delta = end_date - start_date\n",
    "window_len = timedelta(days=180)\n",
    "window_count = 400\n",
    "exit_types = ['SL', 'TS', 'TP', 'Random', 'Holding']\n",
    "step = 0.01  # 1%\n",
    "stops = np.arange(step, 1 + step, step)\n",
    "\n",
    "vbt.settings.array_wrapper['freq'] = 'd'\n",
    "vbt.settings.plotting['layout']['template'] = 'vbt_dark'\n",
    "vbt.settings.portfolio['init_cash'] = 100.  # 100$\n",
    "vbt.settings.portfolio['fees'] = 0.0025  # 0.25%\n",
    "vbt.settings.portfolio['slippage'] = 0.0025  # 0.25%\n",
    "\n",
    "print(pd.Series({\n",
    "    'Start date': start_date,\n",
    "    'End date': end_date,\n",
    "    'Time period (days)': time_delta.days,\n",
    "    'Assets': len(symbols),\n",
    "    'Window length': window_len,\n",
    "    'Windows': window_count,\n",
    "    'Exit types': len(exit_types),\n",
    "    'Stop values': len(stops),\n",
    "    'Tests per asset': window_count * len(stops) * len(exit_types),\n",
    "    'Tests per window': len(symbols) * len(stops) * len(exit_types),\n",
    "    'Tests per exit type': len(symbols) * window_count * len(stops),\n",
    "    'Tests per stop type and value': len(symbols) * window_count,\n",
    "    'Tests total': len(symbols) * window_count * len(stops) * len(exit_types)\n",
    "}))"
   ]
  },
  {
   "cell_type": "code",
   "execution_count": 3,
   "id": "39e0f4ab-3362-4802-a82e-e72be70121da",
   "metadata": {},
   "outputs": [
    {
     "data": {
      "application/vnd.jupyter.widget-view+json": {
       "model_id": "8d617ae764dc470c8d5f48ab57d7ab46",
       "version_major": 2,
       "version_minor": 0
      },
      "text/plain": [
       "0it [00:00, ?it/s]"
      ]
     },
     "metadata": {},
     "output_type": "display_data"
    },
    {
     "data": {
      "application/vnd.jupyter.widget-view+json": {
       "model_id": "1e9a7effada34e859d54d155450239b4",
       "version_major": 2,
       "version_minor": 0
      },
      "text/plain": [
       "0it [00:00, ?it/s]"
      ]
     },
     "metadata": {},
     "output_type": "display_data"
    },
    {
     "data": {
      "application/vnd.jupyter.widget-view+json": {
       "model_id": "da7d25808541486f83555609aaf2c133",
       "version_major": 2,
       "version_minor": 0
      },
      "text/plain": [
       "0it [00:00, ?it/s]"
      ]
     },
     "metadata": {},
     "output_type": "display_data"
    },
    {
     "data": {
      "application/vnd.jupyter.widget-view+json": {
       "model_id": "77a55cc4ae6e45928fd65b907dde7864",
       "version_major": 2,
       "version_minor": 0
      },
      "text/plain": [
       "0it [00:00, ?it/s]"
      ]
     },
     "metadata": {},
     "output_type": "display_data"
    },
    {
     "data": {
      "application/vnd.jupyter.widget-view+json": {
       "model_id": "4ce4f2f087324a9e8c8e1d56e78488ec",
       "version_major": 2,
       "version_minor": 0
      },
      "text/plain": [
       "0it [00:00, ?it/s]"
      ]
     },
     "metadata": {},
     "output_type": "display_data"
    },
    {
     "data": {
      "application/vnd.jupyter.widget-view+json": {
       "model_id": "cc1778ee4bd848c188f1cfb04dfa7053",
       "version_major": 2,
       "version_minor": 0
      },
      "text/plain": [
       "0it [00:00, ?it/s]"
      ]
     },
     "metadata": {},
     "output_type": "display_data"
    },
    {
     "data": {
      "application/vnd.jupyter.widget-view+json": {
       "model_id": "a0adf08be21143f985f1b28b2632a8b9",
       "version_major": 2,
       "version_minor": 0
      },
      "text/plain": [
       "0it [00:00, ?it/s]"
      ]
     },
     "metadata": {},
     "output_type": "display_data"
    },
    {
     "data": {
      "application/vnd.jupyter.widget-view+json": {
       "model_id": "213fd8bd3d9b4accb9ae007e6ebeb680",
       "version_major": 2,
       "version_minor": 0
      },
      "text/plain": [
       "0it [00:00, ?it/s]"
      ]
     },
     "metadata": {},
     "output_type": "display_data"
    },
    {
     "data": {
      "application/vnd.jupyter.widget-view+json": {
       "model_id": "92bb7b1129ac41748848720e74d2da6f",
       "version_major": 2,
       "version_minor": 0
      },
      "text/plain": [
       "0it [00:00, ?it/s]"
      ]
     },
     "metadata": {},
     "output_type": "display_data"
    },
    {
     "data": {
      "application/vnd.jupyter.widget-view+json": {
       "model_id": "5c88421749c74d67a4eddcda4a3972a9",
       "version_major": 2,
       "version_minor": 0
      },
      "text/plain": [
       "0it [00:00, ?it/s]"
      ]
     },
     "metadata": {},
     "output_type": "display_data"
    },
    {
     "data": {
      "application/vnd.jupyter.widget-view+json": {
       "model_id": "998e024568c94f8e88aeaae1310caf3e",
       "version_major": 2,
       "version_minor": 0
      },
      "text/plain": [
       "0it [00:00, ?it/s]"
      ]
     },
     "metadata": {},
     "output_type": "display_data"
    },
    {
     "data": {
      "application/vnd.jupyter.widget-view+json": {
       "model_id": "7b23ded8790c44c89dc87439539049ef",
       "version_major": 2,
       "version_minor": 0
      },
      "text/plain": [
       "0it [00:00, ?it/s]"
      ]
     },
     "metadata": {},
     "output_type": "display_data"
    },
    {
     "name": "stdout",
     "output_type": "stream",
     "text": [
      "dict_keys(['BTCUSDT', 'ETHUSDT', 'SOLUSDT', 'INJUSDT', 'NEARUSDT', 'ENSUSDT', 'AAVEUSDT', 'UMAUSDT', 'BCHUSDT', 'LTCUSDT', 'LINKUSDT', 'LDOUSDT'])\n",
      "(1096, 10)\n"
     ]
    }
   ],
   "source": [
    "cols = ['Open', 'Low', 'High', 'Close', 'Volume']\n",
    "bdata = vbt.BinanceData.download(symbols, start=start_date, end=end_date)\n",
    "\n",
    "print(bdata.data.keys())\n",
    "print(bdata.data['BTCUSDT'].shape)"
   ]
  },
  {
   "cell_type": "code",
   "execution_count": 4,
   "id": "124fdb5d-a80c-4587-b310-cb1cd025b789",
   "metadata": {},
   "outputs": [
    {
     "name": "stdout",
     "output_type": "stream",
     "text": [
      "Index(['Open', 'High', 'Low', 'Close', 'Volume', 'Close time', 'Quote volume',\n",
      "       'Number of trades', 'Taker base volume', 'Taker quote volume'],\n",
      "      dtype='object')\n"
     ]
    }
   ],
   "source": [
    "print(bdata.data['BTCUSDT'].columns)"
   ]
  },
  {
   "cell_type": "code",
   "execution_count": 7,
   "id": "1968e793-d74d-4924-bf79-4f517c501e48",
   "metadata": {},
   "outputs": [
    {
     "data": {
      "application/vnd.jupyter.widget-view+json": {
       "model_id": "13a05c2ed3ac4ad29be72047376d61cc",
       "version_major": 2,
       "version_minor": 0
      },
      "text/plain": [
       "FigureWidget({\n",
       "    'data': [{'close': array([ 20175.83,  20564.51,  21624.98, ..., 108849.6 , 109584.78, 107984.24],\n",
       "                             shape=(1096,)),\n",
       "              'decreasing': {'line': {'color': '#d95f02'}},\n",
       "              'high': array([ 20750.  ,  20675.22,  21838.1 , ..., 109730.  , 110529.18, 109767.59],\n",
       "                            shape=(1096,)),\n",
       "              'increasing': {'line': {'color': '#1b9e76'}},\n",
       "              'low': array([ 19304.4 ,  19761.25,  20251.68, ..., 105100.19, 108530.4 , 107245.  ],\n",
       "                           shape=(1096,)),\n",
       "              'name': 'OHLC',\n",
       "              'open': array([ 20236.71,  20175.84,  20564.51, ..., 105681.13, 108849.59, 109584.77],\n",
       "                            shape=(1096,)),\n",
       "              'type': 'ohlc',\n",
       "              'uid': '42d44279-c156-4a01-b58c-e9ce96e26dd1',\n",
       "              'x': array([datetime.datetime(2022, 7, 5, 0, 0, tzinfo=datetime.timezone.utc),\n",
       "                          datetime.datetime(2022, 7, 6, 0, 0, tzinfo=datetime.timezone.utc),\n",
       "                          datetime.datetime(2022, 7, 7, 0, 0, tzinfo=datetime.timezone.utc), ...,\n",
       "                          datetime.datetime(2025, 7, 2, 0, 0, tzinfo=datetime.timezone.utc),\n",
       "                          datetime.datetime(2025, 7, 3, 0, 0, tzinfo=datetime.timezone.utc),\n",
       "                          datetime.datetime(2025, 7, 4, 0, 0, tzinfo=datetime.timezone.utc)],\n",
       "                         shape=(1096,), dtype=object),\n",
       "              'xaxis': 'x',\n",
       "              'yaxis': 'y'},\n",
       "             {'marker': {'color': array(['#d95f02', '#1b9e76', '#1b9e76', ..., '#1b9e76', '#1b9e76', '#d95f02'],\n",
       "                                        shape=(1096,), dtype=object),\n",
       "                         'line': {'width': 0}},\n",
       "              'name': 'Volume',\n",
       "              'opacity': 0.5,\n",
       "              'type': 'bar',\n",
       "              'uid': 'ea96c036-c707-4fe3-ae6e-5072da34ab36',\n",
       "              'x': array([datetime.datetime(2022, 7, 5, 0, 0, tzinfo=datetime.timezone.utc),\n",
       "                          datetime.datetime(2022, 7, 6, 0, 0, tzinfo=datetime.timezone.utc),\n",
       "                          datetime.datetime(2022, 7, 7, 0, 0, tzinfo=datetime.timezone.utc), ...,\n",
       "                          datetime.datetime(2025, 7, 2, 0, 0, tzinfo=datetime.timezone.utc),\n",
       "                          datetime.datetime(2025, 7, 3, 0, 0, tzinfo=datetime.timezone.utc),\n",
       "                          datetime.datetime(2025, 7, 4, 0, 0, tzinfo=datetime.timezone.utc)],\n",
       "                         shape=(1096,), dtype=object),\n",
       "              'xaxis': 'x2',\n",
       "              'y': array([96041.13756, 82439.5808 , 85014.58261, ..., 17691.89592, 13047.08225,\n",
       "                          11793.86615], shape=(1096,)),\n",
       "              'yaxis': 'y2'}],\n",
       "    'layout': {'bargap': 0,\n",
       "               'height': 350,\n",
       "               'legend': {'orientation': 'h',\n",
       "                          'traceorder': 'normal',\n",
       "                          'x': 1,\n",
       "                          'xanchor': 'right',\n",
       "                          'y': 1.02,\n",
       "                          'yanchor': 'bottom'},\n",
       "               'margin': {'b': 30, 'l': 30, 'r': 30, 't': 30},\n",
       "               'showlegend': True,\n",
       "               'template': '...',\n",
       "               'width': 700,\n",
       "               'xaxis': {'anchor': 'y',\n",
       "                         'domain': [0.0, 1.0],\n",
       "                         'matches': 'x2',\n",
       "                         'rangeslider': {'visible': False},\n",
       "                         'showgrid': True,\n",
       "                         'showticklabels': False},\n",
       "               'xaxis2': {'anchor': 'y2', 'domain': [0.0, 1.0], 'showgrid': True},\n",
       "               'yaxis': {'anchor': 'x', 'domain': [0.3, 1.0], 'showgrid': True},\n",
       "               'yaxis2': {'anchor': 'x2', 'domain': [0.0, 0.3], 'showgrid': True}}\n",
       "})"
      ]
     },
     "execution_count": 7,
     "metadata": {},
     "output_type": "execute_result"
    }
   ],
   "source": [
    "bdata.data['BTCUSDT'].vbt.ohlcv.plot()"
   ]
  },
  {
   "cell_type": "code",
   "execution_count": 9,
   "id": "3694999b-fc26-4eb5-a9ee-b8d098bc9fef",
   "metadata": {},
   "outputs": [
    {
     "name": "stdout",
     "output_type": "stream",
     "text": [
      "dict_keys(['Open', 'High', 'Low', 'Close', 'Volume', 'Close time', 'Quote volume', 'Number of trades', 'Taker base volume', 'Taker quote volume'])\n",
      "(1096, 12)\n"
     ]
    }
   ],
   "source": [
    "ohlcv = bdata.concat()\n",
    "\n",
    "print(ohlcv.keys())\n",
    "print(ohlcv['Open'].shape)"
   ]
  },
  {
   "cell_type": "code",
   "execution_count": 11,
   "id": "376551bf-4abd-4d0f-9ba6-7f9f63668752",
   "metadata": {},
   "outputs": [
    {
     "name": "stdout",
     "output_type": "stream",
     "text": [
      "(180, 4800)\n"
     ]
    }
   ],
   "source": [
    "split_ohlcv = {}\n",
    "for k, v in ohlcv.items():\n",
    "    split_df, split_indexes = v.vbt.range_split(range_len=window_len.days, n=window_count) \n",
    "    split_ohlcv[k] = split_df\n",
    "ohlcv = split_ohlcv\n",
    "    \n",
    "print(ohlcv['Open'].shape)"
   ]
  },
  {
   "cell_type": "code",
   "execution_count": 12,
   "id": "16a2c06a-c7fa-4e76-97c3-bebee9845792",
   "metadata": {},
   "outputs": [
    {
     "name": "stdout",
     "output_type": "stream",
     "text": [
      "MultiIndex([(  0,  'BTCUSDT'),\n",
      "            (  0,  'ETHUSDT'),\n",
      "            (  0,  'SOLUSDT'),\n",
      "            (  0,  'INJUSDT'),\n",
      "            (  0, 'NEARUSDT'),\n",
      "            (  0,  'ENSUSDT'),\n",
      "            (  0, 'AAVEUSDT'),\n",
      "            (  0,  'UMAUSDT'),\n",
      "            (  0,  'BCHUSDT'),\n",
      "            (  0,  'LTCUSDT'),\n",
      "            ...\n",
      "            (399,  'SOLUSDT'),\n",
      "            (399,  'INJUSDT'),\n",
      "            (399, 'NEARUSDT'),\n",
      "            (399,  'ENSUSDT'),\n",
      "            (399, 'AAVEUSDT'),\n",
      "            (399,  'UMAUSDT'),\n",
      "            (399,  'BCHUSDT'),\n",
      "            (399,  'LTCUSDT'),\n",
      "            (399, 'LINKUSDT'),\n",
      "            (399,  'LDOUSDT')],\n",
      "           names=['split_idx', 'symbol'], length=4800)\n"
     ]
    }
   ],
   "source": [
    "print(ohlcv['Open'].columns)"
   ]
  },
  {
   "cell_type": "code",
   "execution_count": 13,
   "id": "50968760-0588-4922-9ea6-ee720b212e01",
   "metadata": {},
   "outputs": [
    {
     "name": "stdout",
     "output_type": "stream",
     "text": [
      "(180, 4800)\n"
     ]
    }
   ],
   "source": [
    "entries = pd.DataFrame.vbt.signals.empty_like(ohlcv['Open'])\n",
    "entries.iloc[0, :] = True\n",
    "\n",
    "print(entries.shape)"
   ]
  },
  {
   "cell_type": "code",
   "execution_count": 14,
   "id": "ecf1d37f-be08-4bdd-9c55-5a6ce3b4c891",
   "metadata": {},
   "outputs": [
    {
     "name": "stdout",
     "output_type": "stream",
     "text": [
      "(180, 480000) (180, 480000) (180, 480000)\n"
     ]
    }
   ],
   "source": [
    "# We use OHLCSTX instead of built-in stop-loss in Portfolio.from_signals\n",
    "# because we want to analyze signals before simulation + it's easier to construct param grids\n",
    "# For reality check, run the same setup using Portfolio.from_signals alone\n",
    "sl_exits = vbt.OHLCSTX.run(\n",
    "    entries, \n",
    "    ohlcv['Open'], \n",
    "    ohlcv['High'], \n",
    "    ohlcv['Low'], \n",
    "    ohlcv['Close'], \n",
    "    sl_stop=list(stops),\n",
    "    stop_type=None, \n",
    "    stop_price=None\n",
    ").exits\n",
    "ts_exits = vbt.OHLCSTX.run(\n",
    "    entries, \n",
    "    ohlcv['Open'], \n",
    "    ohlcv['High'], \n",
    "    ohlcv['Low'], \n",
    "    ohlcv['Close'], \n",
    "    sl_stop=list(stops),\n",
    "    sl_trail=True,\n",
    "    stop_type=None, \n",
    "    stop_price=None\n",
    ").exits\n",
    "tp_exits = vbt.OHLCSTX.run(\n",
    "    entries, \n",
    "    ohlcv['Open'], \n",
    "    ohlcv['High'], \n",
    "    ohlcv['Low'], \n",
    "    ohlcv['Close'], \n",
    "    tp_stop=list(stops),\n",
    "    stop_type=None, \n",
    "    stop_price=None\n",
    ").exits\n",
    "\n",
    "print(sl_exits.shape, ts_exits.shape, tp_exits.shape)"
   ]
  },
  {
   "cell_type": "code",
   "execution_count": 15,
   "id": "6aaef75a-478a-408d-b4ed-0a54681885d1",
   "metadata": {},
   "outputs": [
    {
     "name": "stdout",
     "output_type": "stream",
     "text": [
      "MultiIndex([(0.01,   0,  'BTCUSDT'),\n",
      "            (0.01,   0,  'ETHUSDT'),\n",
      "            (0.01,   0,  'SOLUSDT'),\n",
      "            (0.01,   0,  'INJUSDT'),\n",
      "            (0.01,   0, 'NEARUSDT'),\n",
      "            (0.01,   0,  'ENSUSDT'),\n",
      "            (0.01,   0, 'AAVEUSDT'),\n",
      "            (0.01,   0,  'UMAUSDT'),\n",
      "            (0.01,   0,  'BCHUSDT'),\n",
      "            (0.01,   0,  'LTCUSDT'),\n",
      "            ...\n",
      "            ( 1.0, 399,  'SOLUSDT'),\n",
      "            ( 1.0, 399,  'INJUSDT'),\n",
      "            ( 1.0, 399, 'NEARUSDT'),\n",
      "            ( 1.0, 399,  'ENSUSDT'),\n",
      "            ( 1.0, 399, 'AAVEUSDT'),\n",
      "            ( 1.0, 399,  'UMAUSDT'),\n",
      "            ( 1.0, 399,  'BCHUSDT'),\n",
      "            ( 1.0, 399,  'LTCUSDT'),\n",
      "            ( 1.0, 399, 'LINKUSDT'),\n",
      "            ( 1.0, 399,  'LDOUSDT')],\n",
      "           names=['stop_value', 'split_idx', 'symbol'], length=480000)\n"
     ]
    }
   ],
   "source": [
    "sl_exits.vbt.rename_levels({'ohlcstx_sl_stop': 'stop_value'}, inplace=True)\n",
    "ts_exits.vbt.rename_levels({'ohlcstx_sl_stop': 'stop_value'}, inplace=True)\n",
    "tp_exits.vbt.rename_levels({'ohlcstx_tp_stop': 'stop_value'}, inplace=True)\n",
    "ts_exits.vbt.drop_levels('ohlcstx_sl_trail', inplace=True)\n",
    "\n",
    "print(tp_exits.columns)"
   ]
  },
  {
   "cell_type": "code",
   "execution_count": 16,
   "id": "7cf9c4ff-f9f2-44af-ac9b-4a21eb0d846b",
   "metadata": {},
   "outputs": [
    {
     "name": "stdout",
     "output_type": "stream",
     "text": [
      "SL    0.298144\n",
      "TS    0.490460\n",
      "TP    0.601219\n",
      "Name: avg_num_signals, dtype: float64\n"
     ]
    },
    {
     "data": {
      "application/vnd.jupyter.widget-view+json": {
       "model_id": "e3f4f9e09a38476bbfec2f55d78890e8",
       "version_major": 2,
       "version_minor": 0
      },
      "text/plain": [
       "FigureWidget({\n",
       "    'data': [{'name': 'Stop Loss',\n",
       "              'showlegend': True,\n",
       "              'type': 'scatter',\n",
       "              'uid': 'd78200a3-5dbc-4fd9-b8af-f5b255fa1d2a',\n",
       "              'x': array([0.01, 0.02, 0.03, 0.04, 0.05, 0.06, 0.07, 0.08, 0.09, 0.1 , 0.11, 0.12,\n",
       "                          0.13, 0.14, 0.15, 0.16, 0.17, 0.18, 0.19, 0.2 , 0.21, 0.22, 0.23, 0.24,\n",
       "                          0.25, 0.26, 0.27, 0.28, 0.29, 0.3 , 0.31, 0.32, 0.33, 0.34, 0.35, 0.36,\n",
       "                          0.37, 0.38, 0.39, 0.4 , 0.41, 0.42, 0.43, 0.44, 0.45, 0.46, 0.47, 0.48,\n",
       "                          0.49, 0.5 , 0.51, 0.52, 0.53, 0.54, 0.55, 0.56, 0.57, 0.58, 0.59, 0.6 ,\n",
       "                          0.61, 0.62, 0.63, 0.64, 0.65, 0.66, 0.67, 0.68, 0.69, 0.7 , 0.71, 0.72,\n",
       "                          0.73, 0.74, 0.75, 0.76, 0.77, 0.78, 0.79, 0.8 , 0.81, 0.82, 0.83, 0.84,\n",
       "                          0.85, 0.86, 0.87, 0.88, 0.89, 0.9 , 0.91, 0.92, 0.93, 0.94, 0.95, 0.96,\n",
       "                          0.97, 0.98, 0.99, 1.  ]),\n",
       "              'y': array([9.66666667e-01, 9.52916667e-01, 9.41250000e-01, 9.28125000e-01,\n",
       "                          9.14791667e-01, 9.00833333e-01, 8.85208333e-01, 8.68125000e-01,\n",
       "                          8.49166667e-01, 8.33750000e-01, 8.16250000e-01, 7.95000000e-01,\n",
       "                          7.75625000e-01, 7.59166667e-01, 7.43958333e-01, 7.28125000e-01,\n",
       "                          7.09583333e-01, 6.90625000e-01, 6.68750000e-01, 6.52291667e-01,\n",
       "                          6.33958333e-01, 6.15208333e-01, 5.97083333e-01, 5.80208333e-01,\n",
       "                          5.61041667e-01, 5.44375000e-01, 5.27916667e-01, 5.09375000e-01,\n",
       "                          4.90833333e-01, 4.69375000e-01, 4.53125000e-01, 4.32500000e-01,\n",
       "                          4.15000000e-01, 3.98125000e-01, 3.81875000e-01, 3.69166667e-01,\n",
       "                          3.52916667e-01, 3.35208333e-01, 3.17708333e-01, 2.98541667e-01,\n",
       "                          2.79791667e-01, 2.65416667e-01, 2.49375000e-01, 2.36041667e-01,\n",
       "                          2.21250000e-01, 2.10416667e-01, 1.99791667e-01, 1.88333333e-01,\n",
       "                          1.78750000e-01, 1.68958333e-01, 1.59791667e-01, 1.52708333e-01,\n",
       "                          1.44166667e-01, 1.37291667e-01, 1.29166667e-01, 1.22083333e-01,\n",
       "                          1.13541667e-01, 1.04583333e-01, 9.58333333e-02, 8.81250000e-02,\n",
       "                          8.16666667e-02, 7.43750000e-02, 7.02083333e-02, 6.43750000e-02,\n",
       "                          5.83333333e-02, 5.22916667e-02, 4.87500000e-02, 4.16666667e-02,\n",
       "                          3.75000000e-02, 3.33333333e-02, 2.93750000e-02, 2.45833333e-02,\n",
       "                          2.16666667e-02, 1.77083333e-02, 1.47916667e-02, 1.06250000e-02,\n",
       "                          8.33333333e-03, 6.66666667e-03, 4.16666667e-03, 3.33333333e-03,\n",
       "                          1.04166667e-03, 4.16666667e-04, 0.00000000e+00, 0.00000000e+00,\n",
       "                          0.00000000e+00, 0.00000000e+00, 0.00000000e+00, 0.00000000e+00,\n",
       "                          0.00000000e+00, 0.00000000e+00, 0.00000000e+00, 0.00000000e+00,\n",
       "                          0.00000000e+00, 0.00000000e+00, 0.00000000e+00, 0.00000000e+00,\n",
       "                          0.00000000e+00, 0.00000000e+00, 0.00000000e+00, 0.00000000e+00])},\n",
       "             {'name': 'Trailing Stop',\n",
       "              'showlegend': True,\n",
       "              'type': 'scatter',\n",
       "              'uid': 'dff7f18d-37fa-4d4c-850b-3bde82f51650',\n",
       "              'x': array([0.01, 0.02, 0.03, 0.04, 0.05, 0.06, 0.07, 0.08, 0.09, 0.1 , 0.11, 0.12,\n",
       "                          0.13, 0.14, 0.15, 0.16, 0.17, 0.18, 0.19, 0.2 , 0.21, 0.22, 0.23, 0.24,\n",
       "                          0.25, 0.26, 0.27, 0.28, 0.29, 0.3 , 0.31, 0.32, 0.33, 0.34, 0.35, 0.36,\n",
       "                          0.37, 0.38, 0.39, 0.4 , 0.41, 0.42, 0.43, 0.44, 0.45, 0.46, 0.47, 0.48,\n",
       "                          0.49, 0.5 , 0.51, 0.52, 0.53, 0.54, 0.55, 0.56, 0.57, 0.58, 0.59, 0.6 ,\n",
       "                          0.61, 0.62, 0.63, 0.64, 0.65, 0.66, 0.67, 0.68, 0.69, 0.7 , 0.71, 0.72,\n",
       "                          0.73, 0.74, 0.75, 0.76, 0.77, 0.78, 0.79, 0.8 , 0.81, 0.82, 0.83, 0.84,\n",
       "                          0.85, 0.86, 0.87, 0.88, 0.89, 0.9 , 0.91, 0.92, 0.93, 0.94, 0.95, 0.96,\n",
       "                          0.97, 0.98, 0.99, 1.  ]),\n",
       "              'y': array([1.        , 1.        , 1.        , 1.        , 1.        , 1.        ,\n",
       "                          1.        , 1.        , 1.        , 1.        , 1.        , 1.        ,\n",
       "                          1.        , 1.        , 1.        , 1.        , 1.        , 0.99916667,\n",
       "                          0.99854167, 0.99625   , 0.98833333, 0.96458333, 0.95520833, 0.94895833,\n",
       "                          0.94291667, 0.93270833, 0.930625  , 0.915     , 0.91041667, 0.90958333,\n",
       "                          0.89291667, 0.8675    , 0.85395833, 0.83604167, 0.82604167, 0.8       ,\n",
       "                          0.781875  , 0.75541667, 0.72875   , 0.7225    , 0.70958333, 0.69145833,\n",
       "                          0.685625  , 0.64291667, 0.61604167, 0.5825    , 0.53708333, 0.51020833,\n",
       "                          0.48041667, 0.46291667, 0.43291667, 0.40833333, 0.37541667, 0.36916667,\n",
       "                          0.35145833, 0.3375    , 0.32791667, 0.30125   , 0.28708333, 0.25708333,\n",
       "                          0.24791667, 0.23      , 0.20520833, 0.18854167, 0.18020833, 0.15166667,\n",
       "                          0.14479167, 0.12      , 0.10854167, 0.10291667, 0.08916667, 0.075625  ,\n",
       "                          0.06979167, 0.06916667, 0.061875  , 0.05229167, 0.03333333, 0.02729167,\n",
       "                          0.02604167, 0.01520833, 0.009375  , 0.00916667, 0.00375   , 0.        ,\n",
       "                          0.        , 0.        , 0.        , 0.        , 0.        , 0.        ,\n",
       "                          0.        , 0.        , 0.        , 0.        , 0.        , 0.        ,\n",
       "                          0.        , 0.        , 0.        , 0.        ])},\n",
       "             {'name': 'Take Profit',\n",
       "              'showlegend': True,\n",
       "              'type': 'scatter',\n",
       "              'uid': '995701df-f134-4abc-8fed-27d35a139af3',\n",
       "              'x': array([0.01, 0.02, 0.03, 0.04, 0.05, 0.06, 0.07, 0.08, 0.09, 0.1 , 0.11, 0.12,\n",
       "                          0.13, 0.14, 0.15, 0.16, 0.17, 0.18, 0.19, 0.2 , 0.21, 0.22, 0.23, 0.24,\n",
       "                          0.25, 0.26, 0.27, 0.28, 0.29, 0.3 , 0.31, 0.32, 0.33, 0.34, 0.35, 0.36,\n",
       "                          0.37, 0.38, 0.39, 0.4 , 0.41, 0.42, 0.43, 0.44, 0.45, 0.46, 0.47, 0.48,\n",
       "                          0.49, 0.5 , 0.51, 0.52, 0.53, 0.54, 0.55, 0.56, 0.57, 0.58, 0.59, 0.6 ,\n",
       "                          0.61, 0.62, 0.63, 0.64, 0.65, 0.66, 0.67, 0.68, 0.69, 0.7 , 0.71, 0.72,\n",
       "                          0.73, 0.74, 0.75, 0.76, 0.77, 0.78, 0.79, 0.8 , 0.81, 0.82, 0.83, 0.84,\n",
       "                          0.85, 0.86, 0.87, 0.88, 0.89, 0.9 , 0.91, 0.92, 0.93, 0.94, 0.95, 0.96,\n",
       "                          0.97, 0.98, 0.99, 1.  ]),\n",
       "              'y': array([0.98354167, 0.97770833, 0.970625  , 0.96291667, 0.95416667, 0.94791667,\n",
       "                          0.94125   , 0.934375  , 0.925625  , 0.91958333, 0.90895833, 0.89708333,\n",
       "                          0.88916667, 0.880625  , 0.8725    , 0.86375   , 0.853125  , 0.841875  ,\n",
       "                          0.83395833, 0.82354167, 0.81458333, 0.805     , 0.7925    , 0.78395833,\n",
       "                          0.77541667, 0.76416667, 0.75520833, 0.74708333, 0.73729167, 0.728125  ,\n",
       "                          0.71875   , 0.70833333, 0.698125  , 0.691875  , 0.685     , 0.678125  ,\n",
       "                          0.67041667, 0.660625  , 0.651875  , 0.64625   , 0.63875   , 0.63083333,\n",
       "                          0.62354167, 0.61708333, 0.61333333, 0.605     , 0.6       , 0.5925    ,\n",
       "                          0.585     , 0.58041667, 0.57520833, 0.5675    , 0.56104167, 0.55291667,\n",
       "                          0.54604167, 0.53916667, 0.531875  , 0.52541667, 0.518125  , 0.50958333,\n",
       "                          0.50270833, 0.49604167, 0.48979167, 0.48333333, 0.47791667, 0.47166667,\n",
       "                          0.46354167, 0.45666667, 0.45166667, 0.44583333, 0.43791667, 0.4325    ,\n",
       "                          0.42541667, 0.420625  , 0.41625   , 0.41145833, 0.406875  , 0.403125  ,\n",
       "                          0.3975    , 0.39291667, 0.38854167, 0.38520833, 0.38083333, 0.37479167,\n",
       "                          0.37104167, 0.36666667, 0.36166667, 0.35791667, 0.35354167, 0.350625  ,\n",
       "                          0.34875   , 0.34458333, 0.34208333, 0.33958333, 0.336875  , 0.33375   ,\n",
       "                          0.33      , 0.32520833, 0.32104167, 0.31708333])}],\n",
       "    'layout': {'height': 350,\n",
       "               'legend': {'orientation': 'h',\n",
       "                          'traceorder': 'normal',\n",
       "                          'x': 1,\n",
       "                          'xanchor': 'right',\n",
       "                          'y': 1.02,\n",
       "                          'yanchor': 'bottom'},\n",
       "               'margin': {'b': 30, 'l': 30, 'r': 30, 't': 30},\n",
       "               'template': '...',\n",
       "               'width': 700,\n",
       "               'xaxis': {'title': {'text': 'Stop value'}},\n",
       "               'yaxis': {'title': {'text': 'Avg number of signals'}}}\n",
       "})"
      ]
     },
     "execution_count": 16,
     "metadata": {},
     "output_type": "execute_result"
    }
   ],
   "source": [
    "print(pd.Series({\n",
    "    'SL': sl_exits.vbt.signals.total().mean(),\n",
    "    'TS': ts_exits.vbt.signals.total().mean(),\n",
    "    'TP': tp_exits.vbt.signals.total().mean()\n",
    "}, name='avg_num_signals'))\n",
    "\n",
    "pd.DataFrame({\n",
    "    'Stop Loss': sl_exits.vbt.signals.total().groupby('stop_value').mean(),\n",
    "    'Trailing Stop': ts_exits.vbt.signals.total().groupby('stop_value').mean(),\n",
    "    'Take Profit': tp_exits.vbt.signals.total().groupby('stop_value').mean()\n",
    "}).vbt.plot(xaxis_title='Stop value', yaxis_title='Avg number of signals')"
   ]
  },
  {
   "cell_type": "code",
   "execution_count": 17,
   "id": "61025e26-52ba-4dee-bfd8-359945b4be75",
   "metadata": {},
   "outputs": [
    {
     "name": "stdout",
     "output_type": "stream",
     "text": [
      "SL    1.0\n",
      "TS    1.0\n",
      "TP    1.0\n",
      "Name: avg_num_signals, dtype: float64\n"
     ]
    }
   ],
   "source": [
    "sl_exits.iloc[-1, :] = True\n",
    "ts_exits.iloc[-1, :] = True\n",
    "tp_exits.iloc[-1, :] = True\n",
    "\n",
    "# Select one exit between two entries\n",
    "sl_exits = sl_exits.vbt.signals.first(reset_by=entries, allow_gaps=True)\n",
    "ts_exits = ts_exits.vbt.signals.first(reset_by=entries, allow_gaps=True)\n",
    "tp_exits = tp_exits.vbt.signals.first(reset_by=entries, allow_gaps=True)\n",
    "\n",
    "print(pd.Series({\n",
    "    'SL': sl_exits.vbt.signals.total().mean(),\n",
    "    'TS': ts_exits.vbt.signals.total().mean(),\n",
    "    'TP': tp_exits.vbt.signals.total().mean()\n",
    "}, name='avg_num_signals'))"
   ]
  },
  {
   "cell_type": "code",
   "execution_count": 18,
   "id": "b957c865-b611-4952-9c48-9b8f24fce378",
   "metadata": {},
   "outputs": [
    {
     "name": "stdout",
     "output_type": "stream",
     "text": [
      "(180, 480000)\n"
     ]
    }
   ],
   "source": [
    "hold_exits = pd.DataFrame.vbt.signals.empty_like(sl_exits)\n",
    "hold_exits.iloc[-1, :] = True\n",
    "\n",
    "print(hold_exits.shape)"
   ]
  },
  {
   "cell_type": "code",
   "execution_count": 19,
   "id": "81c627e6-36a7-46b7-9331-5cfea2b4d06e",
   "metadata": {},
   "outputs": [
    {
     "name": "stdout",
     "output_type": "stream",
     "text": [
      "(180, 480000)\n"
     ]
    }
   ],
   "source": [
    "rand_exits = hold_exits.vbt.shuffle(seed=seed)\n",
    "\n",
    "print(rand_exits.shape)"
   ]
  },
  {
   "cell_type": "code",
   "execution_count": 20,
   "id": "4dfc80ff-e241-41a5-8850-09ad7213f372",
   "metadata": {},
   "outputs": [
    {
     "name": "stdout",
     "output_type": "stream",
     "text": [
      "(180, 2400000)\n"
     ]
    }
   ],
   "source": [
    "exits = pd.DataFrame.vbt.concat(\n",
    "    sl_exits, \n",
    "    ts_exits, \n",
    "    tp_exits, \n",
    "    rand_exits, \n",
    "    hold_exits, \n",
    "    keys=pd.Index(exit_types, name='exit_type')\n",
    ")\n",
    "\n",
    "print(exits.shape)"
   ]
  },
  {
   "cell_type": "code",
   "execution_count": 21,
   "id": "1da76f39-1358-479e-882d-bcd8e1ae7fbf",
   "metadata": {},
   "outputs": [
    {
     "name": "stdout",
     "output_type": "stream",
     "text": [
      "exit_type\n",
      "Holding    179.000000\n",
      "Random      89.510104\n",
      "SL         139.331008\n",
      "TP         105.351660\n",
      "TS         114.134554\n",
      "dtype: float64\n"
     ]
    },
    {
     "data": {
      "application/vnd.jupyter.widget-view+json": {
       "model_id": "4aff21bb0b784d76924443be12c8f6b2",
       "version_major": 2,
       "version_minor": 0
      },
      "text/plain": [
       "FigureWidget({\n",
       "    'data': [{'name': 'SL',\n",
       "              'showlegend': True,\n",
       "              'type': 'scatter',\n",
       "              'uid': 'eed877e9-3c96-4a1b-a056-73cbd579f5a4',\n",
       "              'x': array([0.01, 0.02, 0.03, 0.04, 0.05, 0.06, 0.07, 0.08, 0.09, 0.1 , 0.11, 0.12,\n",
       "                          0.13, 0.14, 0.15, 0.16, 0.17, 0.18, 0.19, 0.2 , 0.21, 0.22, 0.23, 0.24,\n",
       "                          0.25, 0.26, 0.27, 0.28, 0.29, 0.3 , 0.31, 0.32, 0.33, 0.34, 0.35, 0.36,\n",
       "                          0.37, 0.38, 0.39, 0.4 , 0.41, 0.42, 0.43, 0.44, 0.45, 0.46, 0.47, 0.48,\n",
       "                          0.49, 0.5 , 0.51, 0.52, 0.53, 0.54, 0.55, 0.56, 0.57, 0.58, 0.59, 0.6 ,\n",
       "                          0.61, 0.62, 0.63, 0.64, 0.65, 0.66, 0.67, 0.68, 0.69, 0.7 , 0.71, 0.72,\n",
       "                          0.73, 0.74, 0.75, 0.76, 0.77, 0.78, 0.79, 0.8 , 0.81, 0.82, 0.83, 0.84,\n",
       "                          0.85, 0.86, 0.87, 0.88, 0.89, 0.9 , 0.91, 0.92, 0.93, 0.94, 0.95, 0.96,\n",
       "                          0.97, 0.98, 0.99, 1.  ]),\n",
       "              'y': array([ 12.12      ,  16.06604167,  19.90979167,  24.11875   ,  28.42520833,\n",
       "                           32.80583333,  37.623125  ,  42.31      ,  47.44604167,  51.55791667,\n",
       "                           56.21166667,  61.26354167,  65.7375    ,  69.768125  ,  73.40145833,\n",
       "                           77.16833333,  80.90104167,  84.80229167,  89.12      ,  92.845625  ,\n",
       "                           96.50791667, 100.09333333, 103.83895833, 106.99875   , 110.140625  ,\n",
       "                          113.20020833, 115.86270833, 118.80791667, 121.50604167, 124.47416667,\n",
       "                          127.08354167, 129.90604167, 132.51145833, 134.78791667, 137.10291667,\n",
       "                          139.08229167, 141.30729167, 143.53666667, 145.74375   , 148.051875  ,\n",
       "                          150.23770833, 152.19270833, 153.92854167, 155.62854167, 157.41875   ,\n",
       "                          158.90208333, 160.1825    , 161.55020833, 162.75395833, 163.84208333,\n",
       "                          164.895625  , 165.83270833, 166.82541667, 167.82479167, 168.69354167,\n",
       "                          169.55      , 170.29770833, 171.14854167, 171.83604167, 172.60833333,\n",
       "                          173.1275    , 173.65458333, 173.99854167, 174.48666667, 174.956875  ,\n",
       "                          175.41604167, 175.83166667, 176.25416667, 176.54625   , 176.829375  ,\n",
       "                          177.076875  , 177.416875  , 177.63604167, 177.91645833, 178.15166667,\n",
       "                          178.48833333, 178.63770833, 178.7275    , 178.83541667, 178.874375  ,\n",
       "                          178.95895833, 178.9825    , 179.        , 179.        , 179.        ,\n",
       "                          179.        , 179.        , 179.        , 179.        , 179.        ,\n",
       "                          179.        , 179.        , 179.        , 179.        , 179.        ,\n",
       "                          179.        , 179.        , 179.        , 179.        , 179.        ])},\n",
       "             {'name': 'TS',\n",
       "              'showlegend': True,\n",
       "              'type': 'scatter',\n",
       "              'uid': 'db65408a-2451-4116-bfdf-978a05c92e6d',\n",
       "              'x': array([0.01, 0.02, 0.03, 0.04, 0.05, 0.06, 0.07, 0.08, 0.09, 0.1 , 0.11, 0.12,\n",
       "                          0.13, 0.14, 0.15, 0.16, 0.17, 0.18, 0.19, 0.2 , 0.21, 0.22, 0.23, 0.24,\n",
       "                          0.25, 0.26, 0.27, 0.28, 0.29, 0.3 , 0.31, 0.32, 0.33, 0.34, 0.35, 0.36,\n",
       "                          0.37, 0.38, 0.39, 0.4 , 0.41, 0.42, 0.43, 0.44, 0.45, 0.46, 0.47, 0.48,\n",
       "                          0.49, 0.5 , 0.51, 0.52, 0.53, 0.54, 0.55, 0.56, 0.57, 0.58, 0.59, 0.6 ,\n",
       "                          0.61, 0.62, 0.63, 0.64, 0.65, 0.66, 0.67, 0.68, 0.69, 0.7 , 0.71, 0.72,\n",
       "                          0.73, 0.74, 0.75, 0.76, 0.77, 0.78, 0.79, 0.8 , 0.81, 0.82, 0.83, 0.84,\n",
       "                          0.85, 0.86, 0.87, 0.88, 0.89, 0.9 , 0.91, 0.92, 0.93, 0.94, 0.95, 0.96,\n",
       "                          0.97, 0.98, 0.99, 1.  ]),\n",
       "              'y': array([  1.365     ,   1.57229167,   1.88833333,   2.299375  ,   2.89875   ,\n",
       "                            3.726875  ,   4.68      ,   5.71791667,   6.99895833,   8.32479167,\n",
       "                            9.97666667,  12.10083333,  13.78395833,  15.94645833,  18.144375  ,\n",
       "                           20.98625   ,  22.86895833,  25.73479167,  27.968125  ,  29.97833333,\n",
       "                           33.20229167,  37.69645833,  41.19666667,  44.57833333,  48.378125  ,\n",
       "                           51.19666667,  54.14770833,  57.85729167,  60.58645833,  63.484375  ,\n",
       "                           67.60145833,  72.46395833,  76.334375  ,  80.46041667,  84.184375  ,\n",
       "                           90.16895833,  94.20895833,  98.56604167, 103.03354167, 104.71875   ,\n",
       "                          107.63875   , 111.77333333, 113.6       , 119.44458333, 123.84291667,\n",
       "                          127.21375   , 132.41604167, 136.16791667, 139.82458333, 141.24395833,\n",
       "                          144.40083333, 146.579375  , 149.85666667, 151.15145833, 153.13625   ,\n",
       "                          154.2275    , 155.456875  , 157.606875  , 158.89083333, 161.15354167,\n",
       "                          162.65395833, 163.76020833, 165.42958333, 166.49104167, 167.57125   ,\n",
       "                          169.67520833, 170.028125  , 171.64208333, 172.62229167, 173.13375   ,\n",
       "                          174.27125   , 175.13125   , 175.510625  , 175.59895833, 175.91854167,\n",
       "                          176.39854167, 177.40854167, 177.73083333, 177.83375   , 178.56020833,\n",
       "                          178.75083333, 178.76291667, 178.919375  , 179.        , 179.        ,\n",
       "                          179.        , 179.        , 179.        , 179.        , 179.        ,\n",
       "                          179.        , 179.        , 179.        , 179.        , 179.        ,\n",
       "                          179.        , 179.        , 179.        , 179.        , 179.        ])},\n",
       "             {'name': 'TP',\n",
       "              'showlegend': True,\n",
       "              'type': 'scatter',\n",
       "              'uid': 'b5cfa015-588f-4554-b8f9-bf5226f6ea50',\n",
       "              'x': array([0.01, 0.02, 0.03, 0.04, 0.05, 0.06, 0.07, 0.08, 0.09, 0.1 , 0.11, 0.12,\n",
       "                          0.13, 0.14, 0.15, 0.16, 0.17, 0.18, 0.19, 0.2 , 0.21, 0.22, 0.23, 0.24,\n",
       "                          0.25, 0.26, 0.27, 0.28, 0.29, 0.3 , 0.31, 0.32, 0.33, 0.34, 0.35, 0.36,\n",
       "                          0.37, 0.38, 0.39, 0.4 , 0.41, 0.42, 0.43, 0.44, 0.45, 0.46, 0.47, 0.48,\n",
       "                          0.49, 0.5 , 0.51, 0.52, 0.53, 0.54, 0.55, 0.56, 0.57, 0.58, 0.59, 0.6 ,\n",
       "                          0.61, 0.62, 0.63, 0.64, 0.65, 0.66, 0.67, 0.68, 0.69, 0.7 , 0.71, 0.72,\n",
       "                          0.73, 0.74, 0.75, 0.76, 0.77, 0.78, 0.79, 0.8 , 0.81, 0.82, 0.83, 0.84,\n",
       "                          0.85, 0.86, 0.87, 0.88, 0.89, 0.9 , 0.91, 0.92, 0.93, 0.94, 0.95, 0.96,\n",
       "                          0.97, 0.98, 0.99, 1.  ]),\n",
       "              'y': array([  8.849375  ,  11.83916667,  15.0125    ,  18.42583333,  22.11416667,\n",
       "                           25.46666667,  28.71875   ,  32.08729167,  35.269375  ,  38.0325    ,\n",
       "                           41.26020833,  44.751875  ,  47.8425    ,  50.59041667,  53.165     ,\n",
       "                           55.90708333,  58.71229167,  61.40708333,  63.90354167,  66.52145833,\n",
       "                           68.98645833,  71.57791667,  74.18208333,  76.42791667,  78.60354167,\n",
       "                           80.924375  ,  82.974375  ,  84.90625   ,  86.98604167,  89.05041667,\n",
       "                           91.01541667,  92.904375  ,  94.99916667,  96.35979167,  97.76291667,\n",
       "                           99.19791667, 100.7175    , 102.503125  , 104.10270833, 105.215625  ,\n",
       "                          106.585625  , 107.883125  , 109.32270833, 110.43791667, 111.40666667,\n",
       "                          112.59604167, 113.464375  , 114.62229167, 115.83875   , 116.82645833,\n",
       "                          117.71916667, 118.95770833, 119.86625   , 120.86083333, 121.96041667,\n",
       "                          122.965     , 123.91645833, 124.68270833, 125.50625   , 126.613125  ,\n",
       "                          127.62041667, 128.50104167, 129.28229167, 130.13291667, 130.76395833,\n",
       "                          131.72041667, 132.73291667, 133.563125  , 134.161875  , 134.9275    ,\n",
       "                          135.78020833, 136.47      , 137.24520833, 138.02958333, 138.755     ,\n",
       "                          139.41625   , 140.05625   , 140.53020833, 141.16541667, 141.69145833,\n",
       "                          142.285     , 142.76041667, 143.39041667, 144.070625  , 144.53125   ,\n",
       "                          144.98333333, 145.51729167, 145.851875  , 146.25979167, 146.52729167,\n",
       "                          146.78541667, 147.27833333, 147.61208333, 147.91645833, 148.31645833,\n",
       "                          148.61145833, 149.02145833, 149.44270833, 149.89208333, 150.259375  ])},\n",
       "             {'name': 'Random',\n",
       "              'showlegend': True,\n",
       "              'type': 'scatter',\n",
       "              'uid': 'a963539a-fe5c-48af-bf46-21d39c53a573',\n",
       "              'x': array([0.01, 0.02, 0.03, 0.04, 0.05, 0.06, 0.07, 0.08, 0.09, 0.1 , 0.11, 0.12,\n",
       "                          0.13, 0.14, 0.15, 0.16, 0.17, 0.18, 0.19, 0.2 , 0.21, 0.22, 0.23, 0.24,\n",
       "                          0.25, 0.26, 0.27, 0.28, 0.29, 0.3 , 0.31, 0.32, 0.33, 0.34, 0.35, 0.36,\n",
       "                          0.37, 0.38, 0.39, 0.4 , 0.41, 0.42, 0.43, 0.44, 0.45, 0.46, 0.47, 0.48,\n",
       "                          0.49, 0.5 , 0.51, 0.52, 0.53, 0.54, 0.55, 0.56, 0.57, 0.58, 0.59, 0.6 ,\n",
       "                          0.61, 0.62, 0.63, 0.64, 0.65, 0.66, 0.67, 0.68, 0.69, 0.7 , 0.71, 0.72,\n",
       "                          0.73, 0.74, 0.75, 0.76, 0.77, 0.78, 0.79, 0.8 , 0.81, 0.82, 0.83, 0.84,\n",
       "                          0.85, 0.86, 0.87, 0.88, 0.89, 0.9 , 0.91, 0.92, 0.93, 0.94, 0.95, 0.96,\n",
       "                          0.97, 0.98, 0.99, 1.  ]),\n",
       "              'y': array([89.15354167, 89.31020833, 88.65875   , 88.70020833, 90.18958333,\n",
       "                          90.87666667, 89.57333333, 89.233125  , 89.7775    , 88.681875  ,\n",
       "                          90.37      , 88.7425    , 88.49083333, 89.37416667, 90.13770833,\n",
       "                          90.703125  , 89.58916667, 88.94833333, 89.43041667, 89.62083333,\n",
       "                          88.57541667, 89.89791667, 89.55291667, 89.77208333, 89.585     ,\n",
       "                          88.59229167, 88.78520833, 90.28291667, 88.80916667, 90.72770833,\n",
       "                          89.204375  , 89.80875   , 89.62270833, 87.13666667, 90.06354167,\n",
       "                          89.18916667, 90.394375  , 88.80166667, 89.45208333, 90.68041667,\n",
       "                          89.41625   , 89.745     , 89.85479167, 89.45479167, 90.54708333,\n",
       "                          89.38375   , 88.77125   , 89.82041667, 88.96166667, 88.88604167,\n",
       "                          89.148125  , 89.61520833, 88.67083333, 88.91416667, 89.43895833,\n",
       "                          88.78229167, 90.21291667, 87.69375   , 88.86791667, 89.51645833,\n",
       "                          89.58354167, 89.333125  , 89.65625   , 88.94833333, 89.349375  ,\n",
       "                          88.96416667, 89.78      , 89.61666667, 90.205     , 89.793125  ,\n",
       "                          89.00395833, 88.86104167, 89.32375   , 87.87125   , 89.828125  ,\n",
       "                          89.97041667, 90.21395833, 89.79      , 90.54041667, 90.174375  ,\n",
       "                          88.76083333, 89.281875  , 89.91541667, 89.411875  , 89.27145833,\n",
       "                          88.92541667, 90.88104167, 90.30291667, 89.79166667, 89.15729167,\n",
       "                          90.510625  , 89.968125  , 89.20645833, 89.65125   , 91.136875  ,\n",
       "                          90.32395833, 88.92770833, 90.2375    , 89.97645833, 90.366875  ])},\n",
       "             {'name': 'Holding',\n",
       "              'showlegend': True,\n",
       "              'type': 'scatter',\n",
       "              'uid': '312eecf1-6132-4eb0-ae8c-c26ad0b4dad7',\n",
       "              'x': array([0.01, 0.02, 0.03, 0.04, 0.05, 0.06, 0.07, 0.08, 0.09, 0.1 , 0.11, 0.12,\n",
       "                          0.13, 0.14, 0.15, 0.16, 0.17, 0.18, 0.19, 0.2 , 0.21, 0.22, 0.23, 0.24,\n",
       "                          0.25, 0.26, 0.27, 0.28, 0.29, 0.3 , 0.31, 0.32, 0.33, 0.34, 0.35, 0.36,\n",
       "                          0.37, 0.38, 0.39, 0.4 , 0.41, 0.42, 0.43, 0.44, 0.45, 0.46, 0.47, 0.48,\n",
       "                          0.49, 0.5 , 0.51, 0.52, 0.53, 0.54, 0.55, 0.56, 0.57, 0.58, 0.59, 0.6 ,\n",
       "                          0.61, 0.62, 0.63, 0.64, 0.65, 0.66, 0.67, 0.68, 0.69, 0.7 , 0.71, 0.72,\n",
       "                          0.73, 0.74, 0.75, 0.76, 0.77, 0.78, 0.79, 0.8 , 0.81, 0.82, 0.83, 0.84,\n",
       "                          0.85, 0.86, 0.87, 0.88, 0.89, 0.9 , 0.91, 0.92, 0.93, 0.94, 0.95, 0.96,\n",
       "                          0.97, 0.98, 0.99, 1.  ]),\n",
       "              'y': array([179., 179., 179., 179., 179., 179., 179., 179., 179., 179., 179., 179.,\n",
       "                          179., 179., 179., 179., 179., 179., 179., 179., 179., 179., 179., 179.,\n",
       "                          179., 179., 179., 179., 179., 179., 179., 179., 179., 179., 179., 179.,\n",
       "                          179., 179., 179., 179., 179., 179., 179., 179., 179., 179., 179., 179.,\n",
       "                          179., 179., 179., 179., 179., 179., 179., 179., 179., 179., 179., 179.,\n",
       "                          179., 179., 179., 179., 179., 179., 179., 179., 179., 179., 179., 179.,\n",
       "                          179., 179., 179., 179., 179., 179., 179., 179., 179., 179., 179., 179.,\n",
       "                          179., 179., 179., 179., 179., 179., 179., 179., 179., 179., 179., 179.,\n",
       "                          179., 179., 179., 179.])}],\n",
       "    'layout': {'height': 350,\n",
       "               'legend': {'orientation': 'h',\n",
       "                          'traceorder': 'normal',\n",
       "                          'x': 1,\n",
       "                          'xanchor': 'right',\n",
       "                          'y': 1.02,\n",
       "                          'yanchor': 'bottom'},\n",
       "               'margin': {'b': 30, 'l': 30, 'r': 30, 't': 30},\n",
       "               'template': '...',\n",
       "               'width': 700,\n",
       "               'xaxis': {'title': {'text': 'Stop value'}},\n",
       "               'yaxis': {'title': {'text': 'Avg distance to entry'}}}\n",
       "})"
      ]
     },
     "execution_count": 21,
     "metadata": {},
     "output_type": "execute_result"
    }
   ],
   "source": [
    "avg_distance = entries.vbt.signals.between_ranges(other=exits)\\\n",
    "    .duration.mean()\\\n",
    "    .groupby(['exit_type', 'stop_value'])\\\n",
    "    .mean()\\\n",
    "    .unstack(level='exit_type')\n",
    "\n",
    "print(avg_distance.mean())\n",
    "\n",
    "avg_distance[exit_types].vbt.plot(\n",
    "    xaxis_title='Stop value', \n",
    "    yaxis_title='Avg distance to entry'\n",
    ")"
   ]
  },
  {
   "cell_type": "code",
   "execution_count": 22,
   "id": "aae01b62-208d-4ab0-87c1-cc6d35e21f2f",
   "metadata": {},
   "outputs": [
    {
     "data": {
      "application/vnd.jupyter.widget-view+json": {
       "model_id": "1b88c8f6ab3941a6a5c31bb7faed22cd",
       "version_major": 2,
       "version_minor": 0
      },
      "text/plain": [
       "  0%|          | 0/5 [00:00<?, ?it/s]"
      ]
     },
     "metadata": {},
     "output_type": "display_data"
    },
    {
     "name": "stdout",
     "output_type": "stream",
     "text": [
      "(2400000,)\n"
     ]
    }
   ],
   "source": [
    "from tqdm.auto import tqdm\n",
    "import gc\n",
    "\n",
    "total_returns = []\n",
    "\n",
    "for i in tqdm(range(len(exit_types))):\n",
    "    chunk_mask = exits.columns.get_level_values('exit_type') == exit_types[i]\n",
    "    chunk_exits = exits.loc[:, chunk_mask]\n",
    "    chunk_pf = vbt.Portfolio.from_signals(ohlcv['Close'], entries, chunk_exits)\n",
    "    total_returns.append(chunk_pf.total_return())\n",
    "    \n",
    "    del chunk_pf\n",
    "    gc.collect()\n",
    "    \n",
    "total_return = pd.concat(total_returns)\n",
    "\n",
    "print(total_return.shape)"
   ]
  },
  {
   "cell_type": "code",
   "execution_count": 23,
   "id": "d1ef3002-4dfe-4bc7-85c0-df4f5c8b6ba7",
   "metadata": {},
   "outputs": [
    {
     "name": "stdout",
     "output_type": "stream",
     "text": [
      "count    480000.000000\n",
      "mean          0.367362\n",
      "std           1.015775\n",
      "min          -0.731935\n",
      "50%           0.080404\n",
      "max           8.967655\n",
      "Name: Holding, dtype: float64\n"
     ]
    },
    {
     "data": {
      "application/vnd.jupyter.widget-view+json": {
       "model_id": "d4d0d22f32dc496aa8cfa13571e4a600",
       "version_major": 2,
       "version_minor": 0
      },
      "text/plain": [
       "FigureWidget({\n",
       "    'data': [{'marker': {'color': '#9467bd'},\n",
       "              'name': 'Holding',\n",
       "              'opacity': 1,\n",
       "              'showlegend': True,\n",
       "              'type': 'histogram',\n",
       "              'uid': 'ba5ae3e9-ae97-4688-808d-4d4fdf1473c7',\n",
       "              'x': array([-0.15185189, -0.0774752 , -0.18824653, ..., -0.64880879, -0.3298948 ,\n",
       "                          -0.66301567], shape=(480000,))}],\n",
       "    'layout': {'barmode': 'overlay',\n",
       "               'height': 350,\n",
       "               'legend': {'orientation': 'h',\n",
       "                          'traceorder': 'normal',\n",
       "                          'x': 1,\n",
       "                          'xanchor': 'right',\n",
       "                          'y': 1.02,\n",
       "                          'yanchor': 'bottom'},\n",
       "               'margin': {'b': 30, 'l': 30, 'r': 30, 't': 30},\n",
       "               'template': '...',\n",
       "               'width': 700,\n",
       "               'xaxis': {'tickformat': '%', 'title': {'text': 'Total return'}},\n",
       "               'yaxis': {'title': {'text': 'Count'}}}\n",
       "})"
      ]
     },
     "execution_count": 23,
     "metadata": {},
     "output_type": "execute_result"
    }
   ],
   "source": [
    "total_return_by_type = total_return.unstack(level='exit_type')[exit_types]\n",
    "\n",
    "print(total_return_by_type['Holding'].describe(percentiles=[]))\n",
    "\n",
    "total_return_by_type['Holding'].vbt.histplot(\n",
    "    xaxis_title='Total return',\n",
    "    xaxis_tickformat='%',\n",
    "    yaxis_title='Count',\n",
    "    trace_kwargs=dict(marker_color=vbt.settings['plotting']['color_schema']['purple'])\n",
    ")"
   ]
  },
  {
   "cell_type": "code",
   "execution_count": 24,
   "id": "f2a8be9d-cce4-4344-a310-d0ce6c8b6102",
   "metadata": {},
   "outputs": [
    {
     "name": "stdout",
     "output_type": "stream",
     "text": [
      "               Mean    Median       Std\n",
      "exit_type                              \n",
      "SL         0.297204 -0.018247  0.974103\n",
      "TS         0.248635  0.002071  0.838905\n",
      "TP         0.188313  0.156633  0.401867\n",
      "Random     0.177977  0.011191  0.650978\n",
      "Holding    0.367362  0.080404  1.015775\n"
     ]
    },
    {
     "data": {
      "application/vnd.jupyter.widget-view+json": {
       "model_id": "62e891ba03b74110ab2f5d7bcf3ad04f",
       "version_major": 2,
       "version_minor": 0
      },
      "text/plain": [
       "FigureWidget({\n",
       "    'data': [{'name': 'SL',\n",
       "              'showlegend': True,\n",
       "              'type': 'box',\n",
       "              'uid': '281aa2e2-fd78-4888-aca7-a769d7ed5ed4',\n",
       "              'y': array([ 0.02756406,  0.00716883,  0.00912276, ..., -0.64880879, -0.3298948 ,\n",
       "                          -0.66301567], shape=(480000,))},\n",
       "             {'name': 'TS',\n",
       "              'showlegend': True,\n",
       "              'type': 'box',\n",
       "              'uid': '0bc48362-09f3-4d08-a729-473818a185eb',\n",
       "              'y': array([ 0.02756406,  0.00716883,  0.00912276, ..., -0.64880879, -0.3298948 ,\n",
       "                          -0.66301567], shape=(480000,))},\n",
       "             {'name': 'TP',\n",
       "              'showlegend': True,\n",
       "              'type': 'box',\n",
       "              'uid': '7e60098f-362b-481d-ba34-cdb6ae2ff637',\n",
       "              'y': array([ 0.02756406,  0.06042799,  0.00912276, ..., -0.64880879, -0.3298948 ,\n",
       "                          -0.66301567], shape=(480000,))},\n",
       "             {'name': 'Random',\n",
       "              'showlegend': True,\n",
       "              'type': 'box',\n",
       "              'uid': 'e449f968-d54e-4368-b1cc-075674750174',\n",
       "              'y': array([ 0.0047293 ,  0.35050023, -0.17403015, ..., -0.61013497, -0.33062071,\n",
       "                          -0.67125025], shape=(480000,))},\n",
       "             {'name': 'Holding',\n",
       "              'showlegend': True,\n",
       "              'type': 'box',\n",
       "              'uid': '47d0e99a-5b8d-41fc-be4e-d86a949d81fd',\n",
       "              'y': array([-0.15185189, -0.0774752 , -0.18824653, ..., -0.64880879, -0.3298948 ,\n",
       "                          -0.66301567], shape=(480000,))}],\n",
       "    'layout': {'height': 350,\n",
       "               'legend': {'orientation': 'h',\n",
       "                          'traceorder': 'normal',\n",
       "                          'x': 1,\n",
       "                          'xanchor': 'right',\n",
       "                          'y': 1.02,\n",
       "                          'yanchor': 'bottom'},\n",
       "               'margin': {'b': 30, 'l': 30, 'r': 30, 't': 30},\n",
       "               'template': '...',\n",
       "               'width': 700,\n",
       "               'yaxis': {'tickformat': '%', 'title': {'text': 'Total return'}}}\n",
       "})"
      ]
     },
     "execution_count": 24,
     "metadata": {},
     "output_type": "execute_result"
    }
   ],
   "source": [
    "print(pd.DataFrame({\n",
    "    'Mean': total_return_by_type.mean(),\n",
    "    'Median': total_return_by_type.median(),\n",
    "    'Std': total_return_by_type.std(),\n",
    "}))\n",
    "\n",
    "total_return_by_type.vbt.boxplot(\n",
    "    yaxis_title='Total return',\n",
    "    yaxis_tickformat='%'\n",
    ")"
   ]
  },
  {
   "cell_type": "code",
   "execution_count": 25,
   "id": "52b933ae-1c6f-4833-9015-f7e8557174ec",
   "metadata": {},
   "outputs": [
    {
     "name": "stdout",
     "output_type": "stream",
     "text": [
      "exit_type\n",
      "SL         0.478721\n",
      "TS         0.503627\n",
      "TP         0.698365\n",
      "Random     0.516771\n",
      "Holding    0.570625\n",
      "Name: win_rate, dtype: float64\n"
     ]
    }
   ],
   "source": [
    "print((total_return_by_type > 0).mean().rename('win_rate'))"
   ]
  },
  {
   "cell_type": "code",
   "execution_count": 27,
   "id": "c6bb8d81-6b74-4e75-8627-36cb1c13c6fa",
   "metadata": {},
   "outputs": [
    {
     "name": "stdout",
     "output_type": "stream",
     "text": [
      "exit_type\n",
      "SL         29.720360\n",
      "TS         24.863543\n",
      "TP         18.831272\n",
      "Random     17.683110\n",
      "Holding    36.736239\n",
      "dtype: float64\n"
     ]
    },
    {
     "data": {
      "application/vnd.jupyter.widget-view+json": {
       "model_id": "8938ff0d0f4143c2a74bfd80f424a24a",
       "version_major": 2,
       "version_minor": 0
      },
      "text/plain": [
       "FigureWidget({\n",
       "    'data': [{'name': 'SL',\n",
       "              'showlegend': True,\n",
       "              'type': 'scatter',\n",
       "              'uid': '9bae2b5a-6491-4e5d-bddd-c70500335d7b',\n",
       "              'x': array([0.01, 0.02, 0.03, 0.04, 0.05, 0.06, 0.07, 0.08, 0.09, 0.1 , 0.11, 0.12,\n",
       "                          0.13, 0.14, 0.15, 0.16, 0.17, 0.18, 0.19, 0.2 , 0.21, 0.22, 0.23, 0.24,\n",
       "                          0.25, 0.26, 0.27, 0.28, 0.29, 0.3 , 0.31, 0.32, 0.33, 0.34, 0.35, 0.36,\n",
       "                          0.37, 0.38, 0.39, 0.4 , 0.41, 0.42, 0.43, 0.44, 0.45, 0.46, 0.47, 0.48,\n",
       "                          0.49, 0.5 , 0.51, 0.52, 0.53, 0.54, 0.55, 0.56, 0.57, 0.58, 0.59, 0.6 ,\n",
       "                          0.61, 0.62, 0.63, 0.64, 0.65, 0.66, 0.67, 0.68, 0.69, 0.7 , 0.71, 0.72,\n",
       "                          0.73, 0.74, 0.75, 0.76, 0.77, 0.78, 0.79, 0.8 , 0.81, 0.82, 0.83, 0.84,\n",
       "                          0.85, 0.86, 0.87, 0.88, 0.89, 0.9 , 0.91, 0.92, 0.93, 0.94, 0.95, 0.96,\n",
       "                          0.97, 0.98, 0.99, 1.  ]),\n",
       "              'y': array([ 2.55432823,  3.30573124,  4.02907977,  5.42887805,  6.50415783,\n",
       "                           7.63916463,  8.80432959, 10.20465237, 11.34352992, 12.48418365,\n",
       "                          13.76107657, 15.8269619 , 16.45000224, 17.27153109, 18.00397017,\n",
       "                          18.27807624, 18.96470002, 19.5360936 , 20.33395523, 20.84660245,\n",
       "                          21.61890488, 22.43270727, 22.93485534, 23.70640507, 24.45796008,\n",
       "                          25.26105213, 25.94624564, 26.79707153, 27.58185691, 28.49035076,\n",
       "                          29.22318091, 30.09807599, 30.57954239, 31.24394189, 31.61982569,\n",
       "                          31.75879581, 32.06619818, 32.4296166 , 32.69152164, 33.15099598,\n",
       "                          33.37649117, 33.75971878, 33.96842014, 34.20149108, 34.39862822,\n",
       "                          34.57132488, 34.72279408, 34.88684102, 34.93958989, 35.07855317,\n",
       "                          35.08849309, 35.10667616, 35.15874805, 35.22502861, 35.4010541 ,\n",
       "                          35.44188912, 35.4823017 , 35.58155928, 35.65481825, 35.75624157,\n",
       "                          35.79629104, 35.83495775, 35.83954529, 35.8887621 , 35.95016796,\n",
       "                          35.97476092, 35.9949543 , 36.06229887, 36.09121351, 36.14359296,\n",
       "                          36.17072426, 36.24207766, 36.28847572, 36.32771083, 36.40219965,\n",
       "                          36.49690743, 36.54245254, 36.57352779, 36.62309569, 36.64457925,\n",
       "                          36.70931472, 36.72528918, 36.73623944, 36.73623944, 36.73623944,\n",
       "                          36.73623944, 36.73623944, 36.73623944, 36.73623944, 36.73623944,\n",
       "                          36.73623944, 36.73623944, 36.73623944, 36.73623944, 36.73623944,\n",
       "                          36.73623944, 36.73623944, 36.73623944, 36.73623944, 36.73623944])},\n",
       "             {'name': 'TS',\n",
       "              'showlegend': True,\n",
       "              'type': 'scatter',\n",
       "              'uid': '72f7008b-688e-4740-bb88-62ebf219bb09',\n",
       "              'x': array([0.01, 0.02, 0.03, 0.04, 0.05, 0.06, 0.07, 0.08, 0.09, 0.1 , 0.11, 0.12,\n",
       "                          0.13, 0.14, 0.15, 0.16, 0.17, 0.18, 0.19, 0.2 , 0.21, 0.22, 0.23, 0.24,\n",
       "                          0.25, 0.26, 0.27, 0.28, 0.29, 0.3 , 0.31, 0.32, 0.33, 0.34, 0.35, 0.36,\n",
       "                          0.37, 0.38, 0.39, 0.4 , 0.41, 0.42, 0.43, 0.44, 0.45, 0.46, 0.47, 0.48,\n",
       "                          0.49, 0.5 , 0.51, 0.52, 0.53, 0.54, 0.55, 0.56, 0.57, 0.58, 0.59, 0.6 ,\n",
       "                          0.61, 0.62, 0.63, 0.64, 0.65, 0.66, 0.67, 0.68, 0.69, 0.7 , 0.71, 0.72,\n",
       "                          0.73, 0.74, 0.75, 0.76, 0.77, 0.78, 0.79, 0.8 , 0.81, 0.82, 0.83, 0.84,\n",
       "                          0.85, 0.86, 0.87, 0.88, 0.89, 0.9 , 0.91, 0.92, 0.93, 0.94, 0.95, 0.96,\n",
       "                          0.97, 0.98, 0.99, 1.  ]),\n",
       "              'y': array([-0.60711006, -0.56696843, -0.5103517 , -0.48793193, -0.39054874,\n",
       "                          -0.23018729, -0.07835449,  0.0539912 ,  0.2277775 ,  0.31695226,\n",
       "                           0.50242134,  1.23821634,  1.48081963,  1.91459585,  2.14962145,\n",
       "                           3.09070831,  3.79962622,  4.69943167,  4.50274303,  5.09910691,\n",
       "                           5.45019214,  7.19023997,  7.69997579, 10.1972313 , 12.07209351,\n",
       "                          12.6247833 , 15.51157942, 16.96854846, 16.40725132, 17.51616442,\n",
       "                          19.62226191, 19.95152635, 21.27802933, 21.78178293, 22.64065312,\n",
       "                          26.29780905, 26.83423518, 28.40353387, 28.83679493, 28.4491409 ,\n",
       "                          28.45325615, 28.12218268, 27.68646827, 28.92859243, 28.31852047,\n",
       "                          28.36084349, 33.00781138, 35.07250093, 34.70443266, 34.77667186,\n",
       "                          34.45032764, 33.90054227, 34.7028982 , 34.05748141, 33.84350131,\n",
       "                          34.1202956 , 33.80097893, 33.26017785, 33.36909873, 34.86833356,\n",
       "                          34.84773516, 34.74084864, 34.85514639, 34.66207441, 34.7589883 ,\n",
       "                          35.65249348, 35.72524254, 35.80634952, 35.5888702 , 35.62279814,\n",
       "                          35.59458578, 35.93840441, 35.88951427, 35.85883272, 35.86389437,\n",
       "                          35.94741677, 36.14174688, 36.15522538, 36.17435584, 36.51224533,\n",
       "                          36.55788768, 36.5608718 , 36.63938439, 36.73623944, 36.73623944,\n",
       "                          36.73623944, 36.73623944, 36.73623944, 36.73623944, 36.73623944,\n",
       "                          36.73623944, 36.73623944, 36.73623944, 36.73623944, 36.73623944,\n",
       "                          36.73623944, 36.73623944, 36.73623944, 36.73623944, 36.73623944])},\n",
       "             {'name': 'TP',\n",
       "              'showlegend': True,\n",
       "              'type': 'scatter',\n",
       "              'uid': 'e8ff32cd-43df-4378-8c25-bee25b2ec874',\n",
       "              'x': array([0.01, 0.02, 0.03, 0.04, 0.05, 0.06, 0.07, 0.08, 0.09, 0.1 , 0.11, 0.12,\n",
       "                          0.13, 0.14, 0.15, 0.16, 0.17, 0.18, 0.19, 0.2 , 0.21, 0.22, 0.23, 0.24,\n",
       "                          0.25, 0.26, 0.27, 0.28, 0.29, 0.3 , 0.31, 0.32, 0.33, 0.34, 0.35, 0.36,\n",
       "                          0.37, 0.38, 0.39, 0.4 , 0.41, 0.42, 0.43, 0.44, 0.45, 0.46, 0.47, 0.48,\n",
       "                          0.49, 0.5 , 0.51, 0.52, 0.53, 0.54, 0.55, 0.56, 0.57, 0.58, 0.59, 0.6 ,\n",
       "                          0.61, 0.62, 0.63, 0.64, 0.65, 0.66, 0.67, 0.68, 0.69, 0.7 , 0.71, 0.72,\n",
       "                          0.73, 0.74, 0.75, 0.76, 0.77, 0.78, 0.79, 0.8 , 0.81, 0.82, 0.83, 0.84,\n",
       "                          0.85, 0.86, 0.87, 0.88, 0.89, 0.9 , 0.91, 0.92, 0.93, 0.94, 0.95, 0.96,\n",
       "                          0.97, 0.98, 0.99, 1.  ]),\n",
       "              'y': array([ 0.63209883,  1.16174762,  1.65304483,  2.18065001,  2.81833935,\n",
       "                           3.35271212,  3.88197724,  4.47466616,  4.94161325,  5.50054988,\n",
       "                           5.96414676,  6.41508179,  6.94290347,  7.47452992,  7.97234257,\n",
       "                           8.50457795,  9.04393835,  9.45224913,  9.97475867, 10.39291174,\n",
       "                          10.95783969, 11.31371133, 11.67235379, 12.11174668, 12.44448667,\n",
       "                          12.73174805, 13.07201775, 13.48574231, 13.82992354, 14.15790542,\n",
       "                          14.4943994 , 14.83114788, 15.35799381, 15.71546385, 16.17349224,\n",
       "                          16.69109688, 17.10341696, 17.56818222, 17.90776023, 18.35860292,\n",
       "                          18.80995498, 19.17428514, 19.580315  , 19.92670343, 20.39831735,\n",
       "                          20.71177921, 21.0889276 , 21.31637459, 21.42332137, 21.76191682,\n",
       "                          22.11797703, 22.29119506, 22.54854832, 22.87215702, 22.97040136,\n",
       "                          23.11548106, 23.18396648, 23.3544301 , 23.47097121, 23.54768469,\n",
       "                          23.65569524, 23.74827494, 23.96229254, 24.09052431, 24.26469359,\n",
       "                          24.29737435, 24.43387181, 24.55298984, 24.71213136, 24.8775751 ,\n",
       "                          24.82707617, 24.86597389, 24.92652669, 25.03833703, 25.28942982,\n",
       "                          25.50204204, 25.6435253 , 25.76432339, 25.87130497, 25.98870302,\n",
       "                          26.1768838 , 26.35590051, 26.37822127, 26.40612619, 26.6738672 ,\n",
       "                          26.8139187 , 26.97575537, 27.21229242, 27.34130559, 27.4503403 ,\n",
       "                          27.74023205, 27.77755003, 27.97765358, 28.12097398, 28.27958197,\n",
       "                          28.42332181, 28.50040068, 28.50836065, 28.60455372, 28.7187599 ])},\n",
       "             {'name': 'Random',\n",
       "              'showlegend': True,\n",
       "              'type': 'scatter',\n",
       "              'uid': '0f797254-9150-4371-9a9c-1a50c08b7f7c',\n",
       "              'x': array([0.01, 0.02, 0.03, 0.04, 0.05, 0.06, 0.07, 0.08, 0.09, 0.1 , 0.11, 0.12,\n",
       "                          0.13, 0.14, 0.15, 0.16, 0.17, 0.18, 0.19, 0.2 , 0.21, 0.22, 0.23, 0.24,\n",
       "                          0.25, 0.26, 0.27, 0.28, 0.29, 0.3 , 0.31, 0.32, 0.33, 0.34, 0.35, 0.36,\n",
       "                          0.37, 0.38, 0.39, 0.4 , 0.41, 0.42, 0.43, 0.44, 0.45, 0.46, 0.47, 0.48,\n",
       "                          0.49, 0.5 , 0.51, 0.52, 0.53, 0.54, 0.55, 0.56, 0.57, 0.58, 0.59, 0.6 ,\n",
       "                          0.61, 0.62, 0.63, 0.64, 0.65, 0.66, 0.67, 0.68, 0.69, 0.7 , 0.71, 0.72,\n",
       "                          0.73, 0.74, 0.75, 0.76, 0.77, 0.78, 0.79, 0.8 , 0.81, 0.82, 0.83, 0.84,\n",
       "                          0.85, 0.86, 0.87, 0.88, 0.89, 0.9 , 0.91, 0.92, 0.93, 0.94, 0.95, 0.96,\n",
       "                          0.97, 0.98, 0.99, 1.  ]),\n",
       "              'y': array([19.17598149, 17.596915  , 17.45693624, 17.61599009, 18.61382291,\n",
       "                          17.51725057, 17.53660078, 16.98172367, 17.30011678, 16.56287134,\n",
       "                          16.93502859, 17.68675951, 17.48731317, 16.9280098 , 17.70210488,\n",
       "                          18.05522621, 18.55896736, 16.73727799, 17.76055091, 17.79871779,\n",
       "                          17.21020159, 16.79854731, 17.86431231, 17.71070004, 17.36812763,\n",
       "                          17.79706583, 17.89866141, 17.66915534, 18.18892182, 17.09699911,\n",
       "                          17.77749047, 17.49894242, 16.65323771, 17.7884662 , 17.13274992,\n",
       "                          17.7099378 , 17.27846094, 17.76253604, 18.47001643, 17.81345084,\n",
       "                          17.13296396, 17.93028139, 18.24554656, 17.95153974, 18.19760912,\n",
       "                          18.0992147 , 17.49222757, 17.09512161, 16.65391247, 18.29729439,\n",
       "                          17.17232777, 18.00376556, 18.50991132, 17.61610828, 17.71827951,\n",
       "                          17.69023762, 17.62336368, 17.08659031, 17.2651787 , 17.84529654,\n",
       "                          18.04720985, 17.4621245 , 17.80934202, 17.47785906, 16.73929328,\n",
       "                          17.67419955, 16.91544198, 18.42107016, 18.77684684, 18.41826784,\n",
       "                          17.19593266, 16.58770132, 16.88418308, 17.40826357, 17.4351662 ,\n",
       "                          18.60001874, 17.97464714, 17.54719759, 17.66204739, 17.18737061,\n",
       "                          18.97691128, 17.66186038, 19.01964282, 17.82337135, 18.24360889,\n",
       "                          16.57995816, 16.792633  , 17.58949783, 16.92832967, 17.63091968,\n",
       "                          18.1321774 , 19.08893848, 17.81301434, 18.19357407, 17.9175976 ,\n",
       "                          18.32424523, 17.71162066, 18.61791178, 17.92335993, 17.99473173])},\n",
       "             {'name': 'Holding',\n",
       "              'showlegend': True,\n",
       "              'type': 'scatter',\n",
       "              'uid': '044ba5a1-55b2-4d46-9a7b-a671c675f649',\n",
       "              'x': array([0.01, 0.02, 0.03, 0.04, 0.05, 0.06, 0.07, 0.08, 0.09, 0.1 , 0.11, 0.12,\n",
       "                          0.13, 0.14, 0.15, 0.16, 0.17, 0.18, 0.19, 0.2 , 0.21, 0.22, 0.23, 0.24,\n",
       "                          0.25, 0.26, 0.27, 0.28, 0.29, 0.3 , 0.31, 0.32, 0.33, 0.34, 0.35, 0.36,\n",
       "                          0.37, 0.38, 0.39, 0.4 , 0.41, 0.42, 0.43, 0.44, 0.45, 0.46, 0.47, 0.48,\n",
       "                          0.49, 0.5 , 0.51, 0.52, 0.53, 0.54, 0.55, 0.56, 0.57, 0.58, 0.59, 0.6 ,\n",
       "                          0.61, 0.62, 0.63, 0.64, 0.65, 0.66, 0.67, 0.68, 0.69, 0.7 , 0.71, 0.72,\n",
       "                          0.73, 0.74, 0.75, 0.76, 0.77, 0.78, 0.79, 0.8 , 0.81, 0.82, 0.83, 0.84,\n",
       "                          0.85, 0.86, 0.87, 0.88, 0.89, 0.9 , 0.91, 0.92, 0.93, 0.94, 0.95, 0.96,\n",
       "                          0.97, 0.98, 0.99, 1.  ]),\n",
       "              'y': array([36.73623944, 36.73623944, 36.73623944, 36.73623944, 36.73623944,\n",
       "                          36.73623944, 36.73623944, 36.73623944, 36.73623944, 36.73623944,\n",
       "                          36.73623944, 36.73623944, 36.73623944, 36.73623944, 36.73623944,\n",
       "                          36.73623944, 36.73623944, 36.73623944, 36.73623944, 36.73623944,\n",
       "                          36.73623944, 36.73623944, 36.73623944, 36.73623944, 36.73623944,\n",
       "                          36.73623944, 36.73623944, 36.73623944, 36.73623944, 36.73623944,\n",
       "                          36.73623944, 36.73623944, 36.73623944, 36.73623944, 36.73623944,\n",
       "                          36.73623944, 36.73623944, 36.73623944, 36.73623944, 36.73623944,\n",
       "                          36.73623944, 36.73623944, 36.73623944, 36.73623944, 36.73623944,\n",
       "                          36.73623944, 36.73623944, 36.73623944, 36.73623944, 36.73623944,\n",
       "                          36.73623944, 36.73623944, 36.73623944, 36.73623944, 36.73623944,\n",
       "                          36.73623944, 36.73623944, 36.73623944, 36.73623944, 36.73623944,\n",
       "                          36.73623944, 36.73623944, 36.73623944, 36.73623944, 36.73623944,\n",
       "                          36.73623944, 36.73623944, 36.73623944, 36.73623944, 36.73623944,\n",
       "                          36.73623944, 36.73623944, 36.73623944, 36.73623944, 36.73623944,\n",
       "                          36.73623944, 36.73623944, 36.73623944, 36.73623944, 36.73623944,\n",
       "                          36.73623944, 36.73623944, 36.73623944, 36.73623944, 36.73623944,\n",
       "                          36.73623944, 36.73623944, 36.73623944, 36.73623944, 36.73623944,\n",
       "                          36.73623944, 36.73623944, 36.73623944, 36.73623944, 36.73623944,\n",
       "                          36.73623944, 36.73623944, 36.73623944, 36.73623944, 36.73623944])}],\n",
       "    'layout': {'height': 350,\n",
       "               'legend': {'orientation': 'h',\n",
       "                          'traceorder': 'normal',\n",
       "                          'x': 1,\n",
       "                          'xanchor': 'right',\n",
       "                          'y': 1.02,\n",
       "                          'yanchor': 'bottom'},\n",
       "               'margin': {'b': 30, 'l': 30, 'r': 30, 't': 30},\n",
       "               'template': '...',\n",
       "               'width': 700,\n",
       "               'xaxis': {'title': {'text': 'Stop value'}},\n",
       "               'yaxis': {'title': {'text': 'Expectancy'}}}\n",
       "})"
      ]
     },
     "execution_count": 27,
     "metadata": {},
     "output_type": "execute_result"
    }
   ],
   "source": [
    "init_cash = vbt.settings.portfolio['init_cash']\n",
    "\n",
    "def get_expectancy(total_return_by_type, level_name):\n",
    "    grouped = total_return_by_type.groupby(level=level_name)\n",
    "    win_rate = grouped.apply(lambda x: (x > 0).mean())\n",
    "    avg_win = grouped.apply(lambda x: init_cash * x[x > 0].mean()).fillna(0)\n",
    "    avg_loss = grouped.apply(lambda x: init_cash * x[x < 0].mean()).fillna(0)\n",
    "    return win_rate * avg_win - (1 - win_rate) * np.abs(avg_loss)\n",
    "    \n",
    "expectancy_by_stop = get_expectancy(total_return_by_type, 'stop_value')\n",
    "\n",
    "print(expectancy_by_stop.mean())\n",
    "\n",
    "expectancy_by_stop.vbt.plot(\n",
    "    xaxis_title='Stop value', \n",
    "    yaxis_title='Expectancy'\n",
    ")"
   ]
  },
  {
   "cell_type": "code",
   "execution_count": 28,
   "id": "f8fede35-1510-4a31-b634-b7b7da1863eb",
   "metadata": {},
   "outputs": [
    {
     "data": {
      "application/vnd.jupyter.widget-view+json": {
       "model_id": "d250e519dfa945eab45c24e0d4a9974c",
       "version_major": 2,
       "version_minor": 0
      },
      "text/plain": [
       "FigureWidget({\n",
       "    'data': [{'mode': 'lines',\n",
       "              'name': 'SL',\n",
       "              'showlegend': True,\n",
       "              'type': 'scatter',\n",
       "              'uid': 'a71ed37c-e52e-4b78-89ed-16c96f78bd19',\n",
       "              'x': array([-0.498 , -0.415 , -0.326 , -0.258 , -0.195 , -0.14  , -0.0883, -0.0297,\n",
       "                           0.0243,  0.0805,  0.15  ,  0.239 ,  0.34  ,  0.422 ,  0.546 ,  0.693 ,\n",
       "                           0.927 ,  1.349 ,  2.245 ]),\n",
       "              'y': array([-41.27345   , -35.65490043, -31.7613376 , -26.53189512, -22.11423441,\n",
       "                          -17.75082799, -13.64135476,  -9.23326344,  -4.9440005 ,   0.23761856,\n",
       "                            5.51797213,  12.04134495,  20.16553087,  27.62623356,  36.14887584,\n",
       "                           50.33992294,  67.02732865,  92.60973893, 147.10211579])},\n",
       "             {'mode': 'lines',\n",
       "              'name': 'TS',\n",
       "              'showlegend': True,\n",
       "              'type': 'scatter',\n",
       "              'uid': '2272f8b4-6f93-4547-98b9-8706c55ff2c4',\n",
       "              'x': array([-0.498 , -0.415 , -0.326 , -0.258 , -0.195 , -0.14  , -0.0883, -0.0297,\n",
       "                           0.0243,  0.0805,  0.15  ,  0.239 ,  0.34  ,  0.422 ,  0.546 ,  0.693 ,\n",
       "                           0.927 ,  1.349 ,  2.245 ]),\n",
       "              'y': array([-33.59683458, -28.31825125, -24.78046269, -20.45181737, -16.11745741,\n",
       "                          -12.66022071,  -8.70598005,  -4.85948811,  -1.57938833,   3.83641598,\n",
       "                            7.73995501,  13.17614106,  20.55531913,  25.5852693 ,  32.5229533 ,\n",
       "                           43.86032383,  56.6969319 ,  75.91313194, 115.0072866 ])},\n",
       "             {'mode': 'lines',\n",
       "              'name': 'TP',\n",
       "              'showlegend': True,\n",
       "              'type': 'scatter',\n",
       "              'uid': '6076e139-ecc1-4c31-b8ad-234eb8204b4f',\n",
       "              'x': array([-0.498 , -0.415 , -0.326 , -0.258 , -0.195 , -0.14  , -0.0883, -0.0297,\n",
       "                           0.0243,  0.0805,  0.15  ,  0.239 ,  0.34  ,  0.422 ,  0.546 ,  0.693 ,\n",
       "                           0.927 ,  1.349 ,  2.245 ]),\n",
       "              'y': array([-35.14986417, -25.66780599, -17.78220607, -11.91815192,  -3.81016096,\n",
       "                           -0.62549961,   5.0143434 ,   9.47133301,  12.9826676 ,  19.57601647,\n",
       "                           23.15959124,  28.7719241 ,  37.44722647,  39.68817682,  43.22535547,\n",
       "                           47.48667122,  52.20878024,  53.01443916,  51.13887065])},\n",
       "             {'mode': 'lines',\n",
       "              'name': 'Random',\n",
       "              'showlegend': True,\n",
       "              'type': 'scatter',\n",
       "              'uid': 'a8520f83-e5d4-47c2-bc14-31a1aa6f1250',\n",
       "              'x': array([-0.498 , -0.415 , -0.326 , -0.258 , -0.195 , -0.14  , -0.0883, -0.0297,\n",
       "                           0.0243,  0.0805,  0.15  ,  0.239 ,  0.34  ,  0.422 ,  0.546 ,  0.693 ,\n",
       "                           0.927 ,  1.349 ,  2.245 ]),\n",
       "              'y': array([-32.89948704, -25.45101151, -19.74532734, -15.07345611,  -8.79696117,\n",
       "                           -6.22341684,  -1.59714421,   0.506637  ,   2.24939877,   7.266043  ,\n",
       "                           10.66739585,  13.55388558,  21.69835381,  21.41335605,  26.08504465,\n",
       "                           35.37387081,  46.5202094 ,  54.47506968,  68.30076012])},\n",
       "             {'mode': 'lines',\n",
       "              'name': 'Holding',\n",
       "              'showlegend': True,\n",
       "              'type': 'scatter',\n",
       "              'uid': '0c8d0967-0d6b-4ff5-9e0a-44f6fb3ffe1c',\n",
       "              'x': array([-0.498 , -0.415 , -0.326 , -0.258 , -0.195 , -0.14  , -0.0883, -0.0297,\n",
       "                           0.0243,  0.0805,  0.15  ,  0.239 ,  0.34  ,  0.422 ,  0.546 ,  0.693 ,\n",
       "                           0.927 ,  1.349 ,  2.245 ]),\n",
       "              'y': array([-57.99227318, -45.40841515, -37.15605938, -29.08214668, -22.59821059,\n",
       "                          -16.71760021, -11.5778085 ,  -5.88798393,  -0.40720879,   5.28325941,\n",
       "                           11.48600968,  19.1893698 ,  28.93598362,  38.16654173,  48.33723613,\n",
       "                           61.80238726,  80.99049614, 110.91453958, 173.25156008])}],\n",
       "    'layout': {'height': 350,\n",
       "               'legend': {'orientation': 'h',\n",
       "                          'traceorder': 'normal',\n",
       "                          'x': 1,\n",
       "                          'xanchor': 'right',\n",
       "                          'y': 1.02,\n",
       "                          'yanchor': 'bottom'},\n",
       "               'margin': {'b': 30, 'l': 30, 'r': 30, 't': 30},\n",
       "               'template': '...',\n",
       "               'width': 700,\n",
       "               'xaxis': {'tickformat': '%', 'title': {'text': 'Total return of holding'}},\n",
       "               'yaxis': {'title': {'text': 'Expectancy'}}}\n",
       "})"
      ]
     },
     "execution_count": 28,
     "metadata": {},
     "output_type": "execute_result"
    }
   ],
   "source": [
    "return_values = np.sort(total_return_by_type['Holding'].values)\n",
    "idxs = np.ceil(np.linspace(0, len(return_values) - 1, 21)).astype(int)\n",
    "bins = return_values[idxs][:-1]\n",
    "\n",
    "def bin_return(total_return_by_type):\n",
    "    classes = pd.cut(total_return_by_type['Holding'], bins=bins, right=True)\n",
    "    new_level = pd.Index(np.array(classes.apply(lambda x: x.right)), name='bin_right')\n",
    "    return total_return_by_type.vbt.stack_index(new_level, axis=0)\n",
    "\n",
    "binned_total_return_by_type = bin_return(total_return_by_type)\n",
    "\n",
    "expectancy_by_bin = get_expectancy(binned_total_return_by_type, 'bin_right')\n",
    "\n",
    "expectancy_by_bin.vbt.plot(\n",
    "    trace_kwargs=dict(mode='lines'),\n",
    "    xaxis_title='Total return of holding',\n",
    "    xaxis_tickformat='%',\n",
    "    yaxis_title='Expectancy'\n",
    ")"
   ]
  },
  {
   "cell_type": "code",
   "execution_count": 34,
   "id": "9c04e7e7-9205-4516-af92-6f1e206e1d9b",
   "metadata": {},
   "outputs": [],
   "source": [
    "range_starts = pd.DatetimeIndex(list(map(lambda x: x[0], split_indexes)))\n",
    "range_ends = pd.DatetimeIndex(list(map(lambda x: x[-1], split_indexes)))\n",
    "\n",
    "symbol_lvl = total_return_by_type.index.get_level_values('symbol')\n",
    "split_idx_lvl = total_return_by_type.index.get_level_values('split_idx')\n",
    "range_start_lvl = range_starts[split_idx_lvl]\n",
    "range_end_lvl = range_ends[split_idx_lvl]\n",
    "\n",
    "asset_multi_select = ipywidgets.SelectMultiple(\n",
    "    options=symbols,\n",
    "    value=symbols,\n",
    "    rows=len(symbols),\n",
    "    description='Symbols'\n",
    ")\n",
    "dates = np.unique(bdata.wrapper.index)\n",
    "date_range_slider = ipywidgets.SelectionRangeSlider(\n",
    "    options=dates,\n",
    "    index=(0, len(dates)-1),\n",
    "    orientation='horizontal',\n",
    "    readout=False,\n",
    "    continuous_update=False\n",
    ")\n",
    "range_start_label = ipywidgets.Label()\n",
    "range_end_label = ipywidgets.Label()\n",
    "metric_dropdown = ipywidgets.Dropdown(\n",
    "    options=['Mean', 'Median', 'Win Rate', 'Expectancy'],\n",
    "    value='Expectancy'\n",
    ")\n",
    "stop_scatter = vbt.plotting.Scatter(\n",
    "    trace_names=exit_types,\n",
    "    x_labels=stops, \n",
    "    xaxis_title='Stop value', \n",
    "    yaxis_title='Expectancy'\n",
    ")\n",
    "stop_scatter_img = ipywidgets.Image(\n",
    "    format='png',\n",
    "    width=stop_scatter.fig.layout.width,\n",
    "    height=stop_scatter.fig.layout.height\n",
    ")\n",
    "bin_scatter = vbt.plotting.Scatter(\n",
    "    trace_names=exit_types,\n",
    "    x_labels=expectancy_by_bin.index, \n",
    "    trace_kwargs=dict(mode='lines'),\n",
    "    xaxis_title='Total return of holding',\n",
    "    xaxis_tickformat='%',\n",
    "    yaxis_title='Expectancy'\n",
    ")\n",
    "bin_scatter_img = ipywidgets.Image(\n",
    "    format='png',\n",
    "    width=bin_scatter.fig.layout.width,\n",
    "    height=bin_scatter.fig.layout.height\n",
    ")"
   ]
  },
  {
   "cell_type": "code",
   "execution_count": 35,
   "id": "873d55c3-74e8-42f5-8b24-b0801d1b8a47",
   "metadata": {},
   "outputs": [
    {
     "ename": "ValueError",
     "evalue": "\nImage export using the \"kaleido\" engine requires the kaleido package,\nwhich can be installed using pip:\n    $ pip install -U kaleido\n",
     "output_type": "error",
     "traceback": [
      "\u001b[31m---------------------------------------------------------------------------\u001b[39m",
      "\u001b[31mValueError\u001b[39m                                Traceback (most recent call last)",
      "\u001b[36mCell\u001b[39m\u001b[36m \u001b[39m\u001b[32mIn[35]\u001b[39m\u001b[32m, line 39\u001b[39m\n\u001b[32m     37\u001b[39m date_range_slider.observe(update_scatter, names=\u001b[33m'\u001b[39m\u001b[33mvalue\u001b[39m\u001b[33m'\u001b[39m)\n\u001b[32m     38\u001b[39m metric_dropdown.observe(update_scatter, names=\u001b[33m'\u001b[39m\u001b[33mvalue\u001b[39m\u001b[33m'\u001b[39m)\n\u001b[32m---> \u001b[39m\u001b[32m39\u001b[39m \u001b[43mupdate_scatter\u001b[49m\u001b[43m(\u001b[49m\u001b[43m)\u001b[49m\n",
      "\u001b[36mCell\u001b[39m\u001b[36m \u001b[39m\u001b[32mIn[35]\u001b[39m\u001b[32m, line 27\u001b[39m, in \u001b[36mupdate_scatter\u001b[39m\u001b[34m(*args, **kwargs)\u001b[39m\n\u001b[32m     25\u001b[39m stop_scatter.fig.update_layout(yaxis_title=_metric_name)\n\u001b[32m     26\u001b[39m stop_scatter.update(filtered_metric)\n\u001b[32m---> \u001b[39m\u001b[32m27\u001b[39m stop_scatter_img.value = \u001b[43mstop_scatter\u001b[49m\u001b[43m.\u001b[49m\u001b[43mfig\u001b[49m\u001b[43m.\u001b[49m\u001b[43mto_image\u001b[49m\u001b[43m(\u001b[49m\u001b[38;5;28;43mformat\u001b[39;49m\u001b[43m=\u001b[49m\u001b[33;43m\"\u001b[39;49m\u001b[33;43mpng\u001b[39;49m\u001b[33;43m\"\u001b[39;49m\u001b[43m)\u001b[49m\n\u001b[32m     29\u001b[39m bin_scatter.fig.update_layout(yaxis_title=_metric_name)\n\u001b[32m     30\u001b[39m bin_scatter.update(filtered_bin_metric)\n",
      "\u001b[36mFile \u001b[39m\u001b[32m~/git/machine_learning_for_trading/venv/lib/python3.11/site-packages/plotly/basedatatypes.py:3772\u001b[39m, in \u001b[36mBaseFigure.to_image\u001b[39m\u001b[34m(self, *args, **kwargs)\u001b[39m\n\u001b[32m   3717\u001b[39m \u001b[38;5;250m\u001b[39m\u001b[33;03m\"\"\"\u001b[39;00m\n\u001b[32m   3718\u001b[39m \u001b[33;03mConvert a figure to a static image bytes string\u001b[39;00m\n\u001b[32m   3719\u001b[39m \n\u001b[32m   (...)\u001b[39m\u001b[32m   3768\u001b[39m \u001b[33;03m    The image data\u001b[39;00m\n\u001b[32m   3769\u001b[39m \u001b[33;03m\"\"\"\u001b[39;00m\n\u001b[32m   3770\u001b[39m \u001b[38;5;28;01mimport\u001b[39;00m\u001b[38;5;250m \u001b[39m\u001b[34;01mplotly\u001b[39;00m\u001b[34;01m.\u001b[39;00m\u001b[34;01mio\u001b[39;00m\u001b[38;5;250m \u001b[39m\u001b[38;5;28;01mas\u001b[39;00m\u001b[38;5;250m \u001b[39m\u001b[34;01mpio\u001b[39;00m\n\u001b[32m-> \u001b[39m\u001b[32m3772\u001b[39m \u001b[38;5;28;01mreturn\u001b[39;00m \u001b[43mpio\u001b[49m\u001b[43m.\u001b[49m\u001b[43mto_image\u001b[49m\u001b[43m(\u001b[49m\u001b[38;5;28;43mself\u001b[39;49m\u001b[43m,\u001b[49m\u001b[43m \u001b[49m\u001b[43m*\u001b[49m\u001b[43margs\u001b[49m\u001b[43m,\u001b[49m\u001b[43m \u001b[49m\u001b[43m*\u001b[49m\u001b[43m*\u001b[49m\u001b[43mkwargs\u001b[49m\u001b[43m)\u001b[49m\n",
      "\u001b[36mFile \u001b[39m\u001b[32m~/git/machine_learning_for_trading/venv/lib/python3.11/site-packages/plotly/io/_kaleido.py:132\u001b[39m, in \u001b[36mto_image\u001b[39m\u001b[34m(fig, format, width, height, scale, validate, engine)\u001b[39m\n\u001b[32m    130\u001b[39m     \u001b[38;5;66;03m# Raise informative error message if Kaleido is not installed\u001b[39;00m\n\u001b[32m    131\u001b[39m     \u001b[38;5;28;01mif\u001b[39;00m scope \u001b[38;5;129;01mis\u001b[39;00m \u001b[38;5;28;01mNone\u001b[39;00m:\n\u001b[32m--> \u001b[39m\u001b[32m132\u001b[39m         \u001b[38;5;28;01mraise\u001b[39;00m \u001b[38;5;167;01mValueError\u001b[39;00m(\n\u001b[32m    133\u001b[39m \u001b[38;5;250m            \u001b[39m\u001b[33;03m\"\"\"\u001b[39;00m\n\u001b[32m    134\u001b[39m \u001b[33;03mImage export using the \"kaleido\" engine requires the kaleido package,\u001b[39;00m\n\u001b[32m    135\u001b[39m \u001b[33;03mwhich can be installed using pip:\u001b[39;00m\n\u001b[32m    136\u001b[39m \u001b[33;03m    $ pip install -U kaleido\u001b[39;00m\n\u001b[32m    137\u001b[39m \u001b[33;03m\"\"\"\u001b[39;00m\n\u001b[32m    138\u001b[39m         )\n\u001b[32m    140\u001b[39m     \u001b[38;5;66;03m# Validate figure\u001b[39;00m\n\u001b[32m    141\u001b[39m     \u001b[38;5;66;03m# ---------------\u001b[39;00m\n\u001b[32m    142\u001b[39m     fig_dict = validate_coerce_fig_to_dict(fig, validate)\n",
      "\u001b[31mValueError\u001b[39m: \nImage export using the \"kaleido\" engine requires the kaleido package,\nwhich can be installed using pip:\n    $ pip install -U kaleido\n"
     ]
    }
   ],
   "source": [
    "def update_scatter(*args, **kwargs):\n",
    "    _symbols = asset_multi_select.value\n",
    "    _from = date_range_slider.value[0]\n",
    "    _to = date_range_slider.value[1]\n",
    "    _metric_name = metric_dropdown.value\n",
    "    \n",
    "    range_mask = (range_start_lvl >= _from) & (range_end_lvl <= _to)\n",
    "    asset_mask = symbol_lvl.isin(_symbols)\n",
    "    filtered = total_return_by_type[range_mask & asset_mask]\n",
    "    \n",
    "    filtered_binned = bin_return(filtered)\n",
    "    if _metric_name == 'Mean':\n",
    "        filtered_metric = filtered.groupby('stop_value').mean()\n",
    "        filtered_bin_metric = filtered_binned.groupby('bin_right').mean()\n",
    "    elif _metric_name == 'Median':\n",
    "        filtered_metric = filtered.groupby('stop_value').median()\n",
    "        filtered_bin_metric = filtered_binned.groupby('bin_right').median()\n",
    "    elif _metric_name == 'Win Rate':\n",
    "        filtered_metric = (filtered > 0).groupby('stop_value').mean()\n",
    "        filtered_bin_metric = (filtered_binned > 0).groupby('bin_right').mean()\n",
    "    elif _metric_name == 'Expectancy':\n",
    "        filtered_metric = get_expectancy(filtered, 'stop_value')\n",
    "        filtered_bin_metric = get_expectancy(filtered_binned, 'bin_right')\n",
    "        \n",
    "    stop_scatter.fig.update_layout(yaxis_title=_metric_name)\n",
    "    stop_scatter.update(filtered_metric)\n",
    "    stop_scatter_img.value = stop_scatter.fig.to_image(format=\"png\")\n",
    "    \n",
    "    bin_scatter.fig.update_layout(yaxis_title=_metric_name)\n",
    "    bin_scatter.update(filtered_bin_metric)\n",
    "    bin_scatter_img.value = bin_scatter.fig.to_image(format=\"png\")\n",
    "    \n",
    "    range_start_label.value = np.datetime_as_string(_from.to_datetime64(), unit='D')\n",
    "    range_end_label.value = np.datetime_as_string(_to.to_datetime64(), unit='D')\n",
    "    \n",
    "asset_multi_select.observe(update_scatter, names='value')\n",
    "date_range_slider.observe(update_scatter, names='value')\n",
    "metric_dropdown.observe(update_scatter, names='value')\n",
    "update_scatter()"
   ]
  },
  {
   "cell_type": "code",
   "execution_count": 36,
   "id": "557c652d-1f95-4066-8dfd-db27d6aa0179",
   "metadata": {},
   "outputs": [
    {
     "data": {
      "application/vnd.jupyter.widget-view+json": {
       "model_id": "69d0acdbc6c0443dae975ac9920783d4",
       "version_major": 2,
       "version_minor": 0
      },
      "text/plain": [
       "VBox(children=(SelectMultiple(description='Symbols', index=(0, 1, 2, 3, 4, 5, 6, 7, 8, 9, 10, 11), options=('B…"
      ]
     },
     "execution_count": 36,
     "metadata": {},
     "output_type": "execute_result"
    }
   ],
   "source": [
    "dashboard = ipywidgets.VBox([\n",
    "    asset_multi_select,\n",
    "    ipywidgets.HBox([\n",
    "        range_start_label,\n",
    "        date_range_slider,\n",
    "        range_end_label\n",
    "    ]),\n",
    "    metric_dropdown,\n",
    "    stop_scatter_img,\n",
    "    bin_scatter_img\n",
    "])\n",
    "dashboard"
   ]
  },
  {
   "cell_type": "code",
   "execution_count": 37,
   "id": "bd3756b2-a769-444a-8205-ba81800fbd5f",
   "metadata": {},
   "outputs": [],
   "source": [
    "dashboard.close()"
   ]
  }
 ],
 "metadata": {
  "kernelspec": {
   "display_name": "Python 3 (ipykernel)",
   "language": "python",
   "name": "python3"
  },
  "language_info": {
   "codemirror_mode": {
    "name": "ipython",
    "version": 3
   },
   "file_extension": ".py",
   "mimetype": "text/x-python",
   "name": "python",
   "nbconvert_exporter": "python",
   "pygments_lexer": "ipython3",
   "version": "3.11.7"
  }
 },
 "nbformat": 4,
 "nbformat_minor": 5
}
